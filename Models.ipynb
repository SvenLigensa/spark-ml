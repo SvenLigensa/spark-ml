{
 "cells": [
  {
   "cell_type": "code",
   "execution_count": 27,
   "metadata": {},
   "outputs": [],
   "source": [
    "from pyspark import SparkConf, SparkContext\n",
    "from pyspark.sql import SparkSession\n",
    "from pyspark.sql.functions import col\n",
    "from pyspark.ml import Pipeline\n",
    "from pyspark.ml.feature import VectorAssembler, MinMaxScaler, StandardScaler\n",
    "from pyspark.ml.regression import LinearRegression, DecisionTreeRegressor, RandomForestRegressor, GBTRegressor\n",
    "from pyspark.ml.evaluation import RegressionEvaluator\n",
    "\n",
    "conf = SparkConf()\n",
    "conf.setAppName(\"ML Data Preparation\")\n",
    "conf.setMaster(\"local\")\n",
    "conf.set(\"spark.hadoop.fs.defaultFS\", \"file:///\")\n",
    "sc = SparkContext.getOrCreate(conf)\n",
    "sc.setLogLevel(\"ERROR\")\n",
    "spark = SparkSession.builder.appName(\"App\").getOrCreate()\n",
    "spark.sparkContext.setLogLevel(\"WARN\")"
   ]
  },
  {
   "cell_type": "code",
   "execution_count": 4,
   "metadata": {},
   "outputs": [],
   "source": [
    "dataframe = spark.read.parquet(\"data_processed_job/2007\")\n",
    "\n",
    "# Rename column \"ArrDelay\" to \"label\", as this is the default in Spark\n",
    "dataframe = dataframe.withColumn(\"label\", col(\"ArrDelay\")).drop(\"ArrDelay\")"
   ]
  },
  {
   "cell_type": "code",
   "execution_count": 5,
   "metadata": {},
   "outputs": [
    {
     "name": "stdout",
     "output_type": "stream",
     "text": [
      "root\n",
      " |-- Year: integer (nullable = true)\n",
      " |-- Month: integer (nullable = true)\n",
      " |-- DayofMonth: integer (nullable = true)\n",
      " |-- CRSElapsedTime: integer (nullable = true)\n",
      " |-- DepDelay: integer (nullable = true)\n",
      " |-- DepTimeT: integer (nullable = true)\n",
      " |-- CRSDepTimeT: integer (nullable = true)\n",
      " |-- CRSArrTimeT: integer (nullable = true)\n",
      " |-- PunctualCarrier: integer (nullable = true)\n",
      " |-- AverageCarrier: integer (nullable = true)\n",
      " |-- label: integer (nullable = true)\n",
      "\n"
     ]
    }
   ],
   "source": [
    "dataframe.printSchema()"
   ]
  },
  {
   "cell_type": "markdown",
   "metadata": {},
   "source": [
    "First, we split our data into a *train set* (80%) and *test set* (20%)."
   ]
  },
  {
   "cell_type": "code",
   "execution_count": 6,
   "metadata": {},
   "outputs": [],
   "source": [
    "train_data, test_data = dataframe.randomSplit([0.8, 0.2], seed=3)"
   ]
  },
  {
   "cell_type": "markdown",
   "metadata": {},
   "source": [
    "# Linear Regression"
   ]
  },
  {
   "cell_type": "markdown",
   "metadata": {},
   "source": [
    "## On Raw Features"
   ]
  },
  {
   "cell_type": "code",
   "execution_count": 7,
   "metadata": {},
   "outputs": [
    {
     "name": "stderr",
     "output_type": "stream",
     "text": [
      "24/12/17 21:43:29 WARN Instrumentation: [02995743] regParam is zero, which might cause numerical instability and overfitting.\n",
      "24/12/17 21:43:40 WARN Instrumentation: [02995743] Cholesky solver failed due to singular covariance matrix. Retrying with Quasi-Newton solver.\n",
      "                                                                                \r"
     ]
    }
   ],
   "source": [
    "FEATURE_COLS = [\"Month\", \"DayofMonth\", \"DepTimeT\", \"CRSDepTimeT\", \"CRSArrTimeT\", \"DepDelay\", \"CRSElapsedTime\", \"PunctualCarrier\", \"AverageCarrier\"]\n",
    "\n",
    "vector_assembler = VectorAssembler(\n",
    "    inputCols=FEATURE_COLS,\n",
    "    outputCol=\"features\"\n",
    ")\n",
    "\n",
    "lr = LinearRegression()\n",
    "\n",
    "pipeline_lr = Pipeline(stages=[\n",
    "    vector_assembler, \n",
    "    lr\n",
    "])\n",
    "\n",
    "train_data_lr = train_data.select(*(FEATURE_COLS + [\"label\"]))\n",
    "model_lr = pipeline_lr.fit(train_data_lr)"
   ]
  },
  {
   "cell_type": "markdown",
   "metadata": {},
   "source": [
    "## On Normalized Features"
   ]
  },
  {
   "cell_type": "code",
   "execution_count": 8,
   "metadata": {},
   "outputs": [
    {
     "name": "stderr",
     "output_type": "stream",
     "text": [
      "24/12/17 21:44:17 WARN Instrumentation: [155a8349] regParam is zero, which might cause numerical instability and overfitting.\n",
      "                                                                                \r"
     ]
    }
   ],
   "source": [
    "# Define groups of columns for preprocessing\n",
    "# Use Min-Max Scaling for features with approximately uniform distribution\n",
    "MINMAX_COLS = [\"Month\", \"DayofMonth\", \"DepTimeT\", \"CRSDepTimeT\", \"CRSArrTimeT\"]\n",
    "# Use Standard Scaling for features which deviate from a mean\n",
    "STANDARD_COLS = [\"DepDelay\", \"CRSElapsedTime\"]\n",
    "# One-Hot encoding was already performed in the preparation phase\n",
    "ONE_HOT_COLS = [\"PunctualCarrier\", \"AverageCarrier\"]\n",
    "ALL_COLS = MINMAX_COLS + STANDARD_COLS + ONE_HOT_COLS\n",
    "\n",
    "# ++++ Define stages for the pipeline ++++\n",
    "minmax_assembler = VectorAssembler(inputCols=MINMAX_COLS, outputCol=\"minmax_features\")\n",
    "minmax_scaler = MinMaxScaler(inputCol=\"minmax_features\", outputCol=\"scaled_minmax_features\")\n",
    "\n",
    "standard_assembler = VectorAssembler(inputCols=STANDARD_COLS, outputCol=\"standard_features\")\n",
    "standard_scaler = StandardScaler(inputCol=\"standard_features\", outputCol=\"scaled_standard_features\", withMean=True, withStd=True)\n",
    "\n",
    "final_assembler = VectorAssembler(\n",
    "    inputCols=[\"scaled_minmax_features\", \"scaled_standard_features\"] + ONE_HOT_COLS,\n",
    "    outputCol=\"features\"\n",
    ")\n",
    "\n",
    "lr_normalized = LinearRegression()\n",
    "\n",
    "# ++++ Create a pipeline ++++\n",
    "pipeline_lr_normalized = Pipeline(stages=[\n",
    "    minmax_assembler, \n",
    "    minmax_scaler, \n",
    "    standard_assembler, \n",
    "    standard_scaler, \n",
    "    final_assembler, \n",
    "    lr_normalized\n",
    "])\n",
    "\n",
    "# ++++ Prepare the data ++++\n",
    "train_data_lr_normalized = train_data.select(*(ALL_COLS + [\"label\"]))\n",
    "\n",
    "# ++++ Fit the pipeline ++++\n",
    "model_lr_normalized = pipeline_lr_normalized.fit(train_data_lr_normalized)"
   ]
  },
  {
   "cell_type": "markdown",
   "metadata": {},
   "source": [
    "## Interpretation & Evaluation"
   ]
  },
  {
   "cell_type": "markdown",
   "metadata": {},
   "source": [
    "Display the coefficients learned by the models (raw + normalized features)."
   ]
  },
  {
   "cell_type": "code",
   "execution_count": 14,
   "metadata": {},
   "outputs": [
    {
     "name": "stdout",
     "output_type": "stream",
     "text": [
      "Feature           Raw Features Normalized Features\n",
      "Intercept                 0.92             9986.72\n",
      "Month                    -0.03               -0.29\n",
      "DayofMonth                0.01                0.18\n",
      "DepTimeT                  0.00                5.29\n",
      "CRSDepTimeT              -0.01               -7.40\n",
      "CRSArrTimeT               0.00                0.99\n",
      "DepDelay                  1.02               36.59\n",
      "CRSElapsedTime           -0.01               -0.82\n",
      "PunctualCarrier           0.18            -9975.59\n",
      "AverageCarrier           -0.18            -9975.94\n"
     ]
    }
   ],
   "source": [
    "model_lr_model = model_lr.stages[-1]\n",
    "model_lr_normalized_model = model_lr_normalized.stages[-1]\n",
    "\n",
    "print(f\"{'Feature':<15}{'Raw Features':>15}{'Normalized Features':>20}\")\n",
    "print(f\"{'Intercept':<15}{model_lr_model.intercept:>15.2f}{model_lr_normalized_model.intercept:>20.2f}\")\n",
    "\n",
    "for i in range(len(ALL_COLS)):\n",
    "    print(f\"{ALL_COLS[i]:<15}{model_lr_model.coefficients[i]:>15.2f}{model_lr_normalized_model.coefficients[i]:>20.2f}\")"
   ]
  },
  {
   "cell_type": "markdown",
   "metadata": {},
   "source": [
    "Based on the LR using the **raw features**, we can see that a `DepDelay` of one minute corresponds to about one minute of `ArrDelay`.\n",
    "The coefficients of the Linear Regression with **normalized features** tells us that `DepDelay` has by far the strongest influence on `ArrDelay`. (Which coincides with our findings from the correlation matrix, as both consider linear relationships.)"
   ]
  },
  {
   "cell_type": "code",
   "execution_count": 18,
   "metadata": {},
   "outputs": [
    {
     "name": "stderr",
     "output_type": "stream",
     "text": [
      "[Stage 31:>                                                         (0 + 1) / 1]\r"
     ]
    },
    {
     "name": "stdout",
     "output_type": "stream",
     "text": [
      "RMSE: 14.2144\n",
      "MAE: 9.4322\n",
      "R²: 0.8695\n"
     ]
    },
    {
     "name": "stderr",
     "output_type": "stream",
     "text": [
      "                                                                                \r"
     ]
    }
   ],
   "source": [
    "predictions = model_lr.transform(test_data.select(*(FEATURE_COLS + [\"label\"])))\n",
    "\n",
    "evaluator = RegressionEvaluator()\n",
    "rmse = evaluator.evaluate(predictions, {evaluator.metricName: \"rmse\"})\n",
    "mae = evaluator.evaluate(predictions, {evaluator.metricName: \"mae\"})\n",
    "r2 = evaluator.evaluate(predictions, {evaluator.metricName: \"r2\"})\n",
    "\n",
    "print(f\"RMSE: {rmse:.4f}\")\n",
    "print(f\"MAE: {mae:.4f}\")\n",
    "print(f\"R²: {r2:.4f}\")"
   ]
  },
  {
   "cell_type": "markdown",
   "metadata": {},
   "source": [
    "To evaluate our Linear Regression model, we compute three metrics: Root Mean Squared Error (**RMSE**), Mean Absolute Error (**MAE**), and the coefficient of determination (**R²**).\n",
    "\n",
    "The RMSE is the most common evaluation metric of regression models, and it penalizes greater errors stronger. We will use it later to compare the performances between our models and choose the best-performing one.\n",
    "\n",
    "The MAE is more robust to outliers. Our LR model's predictions are off by 9.43 minutes on average.\n",
    "R² measures the percentage of variance which can be explained by our model—about 86.9%—the rest is noise which cannot be explained by our model."
   ]
  },
  {
   "cell_type": "markdown",
   "metadata": {},
   "source": [
    "# Decision Tree"
   ]
  },
  {
   "cell_type": "code",
   "execution_count": 15,
   "metadata": {},
   "outputs": [
    {
     "name": "stderr",
     "output_type": "stream",
     "text": [
      "24/12/17 21:48:17 WARN MemoryStore: Not enough space to cache rdd_110_0 in memory! (computed 105.0 MiB so far)\n",
      "24/12/17 21:48:17 WARN BlockManager: Persisting block rdd_110_0 to disk instead.\n",
      "24/12/17 21:48:24 WARN MemoryStore: Not enough space to cache rdd_110_0 in memory! (computed 249.6 MiB so far)\n",
      "24/12/17 21:48:26 WARN MemoryStore: Not enough space to cache rdd_110_0 in memory! (computed 249.6 MiB so far)\n",
      "24/12/17 21:48:28 WARN MemoryStore: Not enough space to cache rdd_110_0 in memory! (computed 249.6 MiB so far)\n",
      "24/12/17 21:48:31 WARN MemoryStore: Not enough space to cache rdd_110_0 in memory! (computed 249.6 MiB so far)\n",
      "24/12/17 21:48:33 WARN MemoryStore: Not enough space to cache rdd_110_0 in memory! (computed 249.6 MiB so far)\n",
      "                                                                                \r"
     ]
    }
   ],
   "source": [
    "FEATURE_COLS = [\"Month\", \"DayofMonth\", \"DepTimeT\", \"CRSDepTimeT\", \"CRSArrTimeT\", \"DepDelay\", \"CRSElapsedTime\", \"PunctualCarrier\", \"AverageCarrier\"]\n",
    "\n",
    "vector_assembler = VectorAssembler(inputCols=FEATURE_COLS, outputCol=\"features\")\n",
    "dt = DecisionTreeRegressor()\n",
    "pipeline_dt = Pipeline(stages=[vector_assembler, dt])\n",
    "\n",
    "train_data_dt = train_data.select(*(FEATURE_COLS + [\"label\"]))\n",
    "model_dt = pipeline_dt.fit(train_data_dt)"
   ]
  },
  {
   "cell_type": "code",
   "execution_count": null,
   "metadata": {},
   "outputs": [],
   "source": [
    "print(model_dt.stages[-1].toDebugString)"
   ]
  },
  {
   "cell_type": "code",
   "execution_count": null,
   "metadata": {},
   "outputs": [
    {
     "name": "stderr",
     "output_type": "stream",
     "text": [
      "[Stage 57:>                                                         (0 + 1) / 1]\r"
     ]
    },
    {
     "name": "stdout",
     "output_type": "stream",
     "text": [
      "RMSE: 19.2007\n",
      "MAE: 10.7199\n",
      "R²: 0.7619\n"
     ]
    },
    {
     "name": "stderr",
     "output_type": "stream",
     "text": [
      "                                                                                \r"
     ]
    }
   ],
   "source": [
    "predictions = model_dt.transform(test_data.select(*(FEATURE_COLS + [\"label\"])))\n",
    "\n",
    "evaluator = RegressionEvaluator()\n",
    "rmse = evaluator.evaluate(predictions, {evaluator.metricName: \"rmse\"})\n",
    "mae = evaluator.evaluate(predictions, {evaluator.metricName: \"mae\"})\n",
    "r2 = evaluator.evaluate(predictions, {evaluator.metricName: \"r2\"})\n",
    "\n",
    "print(f\"RMSE: {rmse:.4f}\")\n",
    "print(f\"MAE: {mae:.4f}\")\n",
    "print(f\"R²: {r2:.4f}\")"
   ]
  },
  {
   "cell_type": "markdown",
   "metadata": {},
   "source": [
    "# Random Forest"
   ]
  },
  {
   "cell_type": "code",
   "execution_count": 24,
   "metadata": {},
   "outputs": [
    {
     "name": "stderr",
     "output_type": "stream",
     "text": [
      "24/12/17 21:59:34 WARN MemoryStore: Not enough space to cache rdd_271_0 in memory! (computed 93.8 MiB so far)\n",
      "24/12/17 21:59:34 WARN BlockManager: Persisting block rdd_271_0 to disk instead.\n",
      "24/12/17 21:59:47 WARN MemoryStore: Not enough space to cache rdd_271_0 in memory! (computed 316.5 MiB so far)\n",
      "24/12/17 21:59:54 WARN MemoryStore: Not enough space to cache rdd_271_0 in memory! (computed 316.5 MiB so far)\n",
      "24/12/17 22:00:03 WARN MemoryStore: Not enough space to cache rdd_271_0 in memory! (computed 316.5 MiB so far)\n",
      "24/12/17 22:00:15 WARN MemoryStore: Not enough space to cache rdd_271_0 in memory! (computed 316.5 MiB so far)\n",
      "24/12/17 22:00:27 WARN MemoryStore: Not enough space to cache rdd_271_0 in memory! (computed 316.5 MiB so far)\n",
      "                                                                                \r"
     ]
    }
   ],
   "source": [
    "FEATURE_COLS = [\"Month\", \"DayofMonth\", \"DepTimeT\", \"CRSDepTimeT\", \"CRSArrTimeT\", \"DepDelay\", \"CRSElapsedTime\", \"PunctualCarrier\", \"AverageCarrier\"]\n",
    "\n",
    "vector_assembler = VectorAssembler(inputCols=FEATURE_COLS, outputCol=\"features\")\n",
    "rf = RandomForestRegressor()\n",
    "pipeline_rf = Pipeline(stages=[vector_assembler, rf])\n",
    "\n",
    "train_data_rf = train_data.select(*(FEATURE_COLS + [\"label\"]))\n",
    "model_rf = pipeline_rf.fit(train_data_rf)"
   ]
  },
  {
   "cell_type": "code",
   "execution_count": 26,
   "metadata": {},
   "outputs": [
    {
     "name": "stderr",
     "output_type": "stream",
     "text": [
      "[Stage 77:>                                                         (0 + 1) / 1]\r"
     ]
    },
    {
     "name": "stdout",
     "output_type": "stream",
     "text": [
      "RMSE: 20.6262\n",
      "MAE: 12.1371\n",
      "R²: 0.7252\n"
     ]
    },
    {
     "name": "stderr",
     "output_type": "stream",
     "text": [
      "                                                                                \r"
     ]
    }
   ],
   "source": [
    "predictions = model_rf.transform(test_data.select(*(FEATURE_COLS + [\"label\"])))\n",
    "\n",
    "evaluator = RegressionEvaluator()\n",
    "rmse = evaluator.evaluate(predictions, {evaluator.metricName: \"rmse\"})\n",
    "mae = evaluator.evaluate(predictions, {evaluator.metricName: \"mae\"})\n",
    "r2 = evaluator.evaluate(predictions, {evaluator.metricName: \"r2\"})\n",
    "\n",
    "print(f\"RMSE: {rmse:.4f}\")\n",
    "print(f\"MAE: {mae:.4f}\")\n",
    "print(f\"R²: {r2:.4f}\")"
   ]
  },
  {
   "cell_type": "markdown",
   "metadata": {},
   "source": [
    "# Gradient-boosted Trees"
   ]
  },
  {
   "cell_type": "code",
   "execution_count": 28,
   "metadata": {},
   "outputs": [
    {
     "name": "stderr",
     "output_type": "stream",
     "text": [
      "24/12/17 22:48:18 WARN MemoryStore: Not enough space to cache rdd_360_0 in memory! (computed 104.8 MiB so far)\n",
      "24/12/17 22:48:18 WARN BlockManager: Persisting block rdd_360_0 to disk instead.\n",
      "24/12/17 22:48:24 WARN MemoryStore: Not enough space to cache rdd_360_0 in memory! (computed 353.7 MiB so far)\n",
      "24/12/17 22:48:26 WARN MemoryStore: Not enough space to cache rdd_360_0 in memory! (computed 8.4 MiB so far)\n",
      "24/12/17 22:48:26 WARN MemoryStore: Not enough space to cache rdd_362_0 in memory! (computed 16.0 MiB so far)\n",
      "24/12/17 22:48:26 WARN BlockManager: Persisting block rdd_362_0 to disk instead.\n",
      "24/12/17 22:48:27 WARN MemoryStore: Not enough space to cache rdd_362_0 in memory! (computed 16.0 MiB so far)\n",
      "24/12/17 22:48:30 WARN MemoryStore: Not enough space to cache rdd_360_0 in memory! (computed 353.7 MiB so far)\n",
      "24/12/17 22:48:30 WARN MemoryStore: Not enough space to cache rdd_362_0 in memory! (computed 16.0 MiB so far)\n",
      "24/12/17 22:48:33 WARN MemoryStore: Not enough space to cache rdd_360_0 in memory! (computed 353.7 MiB so far)\n",
      "24/12/17 22:48:33 WARN MemoryStore: Not enough space to cache rdd_362_0 in memory! (computed 16.0 MiB so far)\n",
      "24/12/17 22:48:36 WARN MemoryStore: Not enough space to cache rdd_360_0 in memory! (computed 353.7 MiB so far)\n",
      "24/12/17 22:48:36 WARN MemoryStore: Not enough space to cache rdd_362_0 in memory! (computed 16.0 MiB so far)\n",
      "24/12/17 22:48:39 WARN MemoryStore: Not enough space to cache rdd_360_0 in memory! (computed 353.7 MiB so far)\n",
      "24/12/17 22:48:39 WARN MemoryStore: Not enough space to cache rdd_362_0 in memory! (computed 16.0 MiB so far)\n",
      "24/12/17 22:48:42 WARN MemoryStore: Not enough space to cache rdd_360_0 in memory! (computed 353.7 MiB so far)\n",
      "24/12/17 22:48:42 WARN MemoryStore: Not enough space to cache rdd_360_0 in memory! (computed 8.4 MiB so far)\n",
      "24/12/17 22:48:42 WARN MemoryStore: Not enough space to cache rdd_360_0 in memory! (computed 3.7 MiB so far)\n",
      "24/12/17 22:48:42 WARN MemoryStore: Failed to reserve initial memory threshold of 1024.0 KiB for computing block rdd_380_0 in memory.\n",
      "24/12/17 22:48:42 WARN MemoryStore: Not enough space to cache rdd_380_0 in memory! (computed 384.0 B so far)\n",
      "24/12/17 22:48:42 WARN BlockManager: Persisting block rdd_380_0 to disk instead.\n",
      "24/12/17 22:48:45 WARN MemoryStore: Not enough space to cache rdd_380_0 in memory! (computed 3.7 MiB so far)\n",
      "24/12/17 22:48:45 WARN MemoryStore: Failed to reserve initial memory threshold of 1024.0 KiB for computing block rdd_383_0 in memory.\n",
      "24/12/17 22:48:45 WARN MemoryStore: Not enough space to cache rdd_383_0 in memory! (computed 384.0 B so far)\n",
      "24/12/17 22:48:45 WARN BlockManager: Persisting block rdd_383_0 to disk instead.\n",
      "24/12/17 22:48:48 WARN MemoryStore: Not enough space to cache rdd_383_0 in memory! (computed 10.8 MiB so far)\n",
      "24/12/17 22:48:51 WARN MemoryStore: Not enough space to cache rdd_360_0 in memory! (computed 353.7 MiB so far)\n",
      "24/12/17 22:48:52 WARN MemoryStore: Not enough space to cache rdd_383_0 in memory! (computed 10.8 MiB so far)\n",
      "24/12/17 22:48:55 WARN MemoryStore: Not enough space to cache rdd_360_0 in memory! (computed 353.7 MiB so far)\n",
      "24/12/17 22:48:56 WARN MemoryStore: Not enough space to cache rdd_383_0 in memory! (computed 10.8 MiB so far)\n",
      "24/12/17 22:49:00 WARN MemoryStore: Not enough space to cache rdd_360_0 in memory! (computed 353.7 MiB so far)\n",
      "24/12/17 22:49:00 WARN MemoryStore: Not enough space to cache rdd_383_0 in memory! (computed 10.8 MiB so far)\n",
      "24/12/17 22:49:03 WARN MemoryStore: Not enough space to cache rdd_360_0 in memory! (computed 353.7 MiB so far)\n",
      "24/12/17 22:49:04 WARN MemoryStore: Not enough space to cache rdd_383_0 in memory! (computed 10.8 MiB so far)\n",
      "24/12/17 22:49:07 WARN MemoryStore: Not enough space to cache rdd_360_0 in memory! (computed 353.7 MiB so far)\n",
      "24/12/17 22:49:08 WARN MemoryStore: Not enough space to cache rdd_360_0 in memory! (computed 8.4 MiB so far)\n",
      "24/12/17 22:49:08 WARN MemoryStore: Not enough space to cache rdd_360_0 in memory! (computed 3.7 MiB so far)\n",
      "24/12/17 22:49:08 WARN MemoryStore: Failed to reserve initial memory threshold of 1024.0 KiB for computing block rdd_380_0 in memory.\n",
      "24/12/17 22:49:08 WARN MemoryStore: Not enough space to cache rdd_380_0 in memory! (computed 384.0 B so far)\n",
      "24/12/17 22:49:08 WARN MemoryStore: Failed to reserve initial memory threshold of 1024.0 KiB for computing block rdd_402_0 in memory.\n",
      "24/12/17 22:49:08 WARN MemoryStore: Not enough space to cache rdd_402_0 in memory! (computed 384.0 B so far)\n",
      "24/12/17 22:49:08 WARN BlockManager: Persisting block rdd_402_0 to disk instead.\n",
      "24/12/17 22:49:11 WARN MemoryStore: Not enough space to cache rdd_402_0 in memory! (computed 3.7 MiB so far)\n",
      "24/12/17 22:49:11 WARN MemoryStore: Failed to reserve initial memory threshold of 1024.0 KiB for computing block rdd_405_0 in memory.\n",
      "24/12/17 22:49:11 WARN MemoryStore: Not enough space to cache rdd_405_0 in memory! (computed 384.0 B so far)\n",
      "24/12/17 22:49:11 WARN BlockManager: Persisting block rdd_405_0 to disk instead.\n",
      "24/12/17 22:49:15 WARN MemoryStore: Not enough space to cache rdd_405_0 in memory! (computed 10.8 MiB so far)\n",
      "24/12/17 22:49:20 WARN MemoryStore: Not enough space to cache rdd_360_0 in memory! (computed 353.7 MiB so far)\n",
      "24/12/17 22:49:20 WARN MemoryStore: Not enough space to cache rdd_405_0 in memory! (computed 10.8 MiB so far)\n",
      "24/12/17 22:49:23 WARN MemoryStore: Not enough space to cache rdd_360_0 in memory! (computed 353.7 MiB so far)\n",
      "24/12/17 22:49:24 WARN MemoryStore: Not enough space to cache rdd_405_0 in memory! (computed 10.8 MiB so far)\n",
      "24/12/17 22:49:28 WARN MemoryStore: Not enough space to cache rdd_360_0 in memory! (computed 353.7 MiB so far)\n",
      "24/12/17 22:49:28 WARN MemoryStore: Not enough space to cache rdd_405_0 in memory! (computed 10.8 MiB so far)\n",
      "24/12/17 22:49:32 WARN MemoryStore: Not enough space to cache rdd_360_0 in memory! (computed 353.7 MiB so far)\n",
      "24/12/17 22:49:32 WARN MemoryStore: Not enough space to cache rdd_405_0 in memory! (computed 10.8 MiB so far)\n",
      "24/12/17 22:49:37 WARN MemoryStore: Not enough space to cache rdd_360_0 in memory! (computed 353.7 MiB so far)\n",
      "24/12/17 22:49:37 WARN MemoryStore: Not enough space to cache rdd_360_0 in memory! (computed 8.4 MiB so far)\n",
      "24/12/17 22:49:37 WARN MemoryStore: Not enough space to cache rdd_360_0 in memory! (computed 3.7 MiB so far)\n",
      "24/12/17 22:49:37 WARN MemoryStore: Failed to reserve initial memory threshold of 1024.0 KiB for computing block rdd_402_0 in memory.\n",
      "24/12/17 22:49:37 WARN MemoryStore: Not enough space to cache rdd_402_0 in memory! (computed 384.0 B so far)\n",
      "24/12/17 22:49:37 WARN MemoryStore: Failed to reserve initial memory threshold of 1024.0 KiB for computing block rdd_424_0 in memory.\n",
      "24/12/17 22:49:37 WARN MemoryStore: Not enough space to cache rdd_424_0 in memory! (computed 384.0 B so far)\n",
      "24/12/17 22:49:37 WARN BlockManager: Persisting block rdd_424_0 to disk instead.\n",
      "24/12/17 22:49:40 WARN MemoryStore: Not enough space to cache rdd_424_0 in memory! (computed 3.7 MiB so far)\n",
      "24/12/17 22:49:40 WARN MemoryStore: Failed to reserve initial memory threshold of 1024.0 KiB for computing block rdd_427_0 in memory.\n",
      "24/12/17 22:49:40 WARN MemoryStore: Not enough space to cache rdd_427_0 in memory! (computed 384.0 B so far)\n",
      "24/12/17 22:49:40 WARN BlockManager: Persisting block rdd_427_0 to disk instead.\n",
      "24/12/17 22:49:44 WARN MemoryStore: Not enough space to cache rdd_427_0 in memory! (computed 10.8 MiB so far)\n",
      "24/12/17 22:49:48 WARN MemoryStore: Not enough space to cache rdd_360_0 in memory! (computed 353.7 MiB so far)\n",
      "24/12/17 22:49:48 WARN MemoryStore: Not enough space to cache rdd_427_0 in memory! (computed 10.8 MiB so far)\n",
      "24/12/17 22:49:51 WARN MemoryStore: Not enough space to cache rdd_360_0 in memory! (computed 353.7 MiB so far)\n",
      "24/12/17 22:49:52 WARN MemoryStore: Not enough space to cache rdd_427_0 in memory! (computed 10.8 MiB so far)\n",
      "24/12/17 22:49:56 WARN MemoryStore: Not enough space to cache rdd_360_0 in memory! (computed 353.7 MiB so far)\n",
      "24/12/17 22:49:56 WARN MemoryStore: Not enough space to cache rdd_427_0 in memory! (computed 10.8 MiB so far)\n",
      "24/12/17 22:50:00 WARN MemoryStore: Not enough space to cache rdd_360_0 in memory! (computed 353.7 MiB so far)\n",
      "24/12/17 22:50:00 WARN MemoryStore: Not enough space to cache rdd_427_0 in memory! (computed 10.8 MiB so far)\n",
      "24/12/17 22:50:05 WARN MemoryStore: Not enough space to cache rdd_360_0 in memory! (computed 353.7 MiB so far)\n",
      "24/12/17 22:50:05 WARN MemoryStore: Not enough space to cache rdd_360_0 in memory! (computed 8.4 MiB so far)\n",
      "24/12/17 22:50:05 WARN MemoryStore: Not enough space to cache rdd_360_0 in memory! (computed 3.7 MiB so far)\n",
      "24/12/17 22:50:05 WARN MemoryStore: Failed to reserve initial memory threshold of 1024.0 KiB for computing block rdd_424_0 in memory.\n",
      "24/12/17 22:50:05 WARN MemoryStore: Not enough space to cache rdd_424_0 in memory! (computed 384.0 B so far)\n",
      "24/12/17 22:50:05 WARN MemoryStore: Failed to reserve initial memory threshold of 1024.0 KiB for computing block rdd_446_0 in memory.\n",
      "24/12/17 22:50:05 WARN MemoryStore: Not enough space to cache rdd_446_0 in memory! (computed 384.0 B so far)\n",
      "24/12/17 22:50:05 WARN BlockManager: Persisting block rdd_446_0 to disk instead.\n",
      "24/12/17 22:50:09 WARN MemoryStore: Not enough space to cache rdd_446_0 in memory! (computed 3.7 MiB so far)\n",
      "24/12/17 22:50:09 WARN MemoryStore: Failed to reserve initial memory threshold of 1024.0 KiB for computing block rdd_449_0 in memory.\n",
      "24/12/17 22:50:09 WARN MemoryStore: Not enough space to cache rdd_449_0 in memory! (computed 384.0 B so far)\n",
      "24/12/17 22:50:09 WARN BlockManager: Persisting block rdd_449_0 to disk instead.\n",
      "24/12/17 22:50:13 WARN MemoryStore: Not enough space to cache rdd_449_0 in memory! (computed 10.8 MiB so far)\n",
      "24/12/17 22:50:16 WARN MemoryStore: Not enough space to cache rdd_360_0 in memory! (computed 353.7 MiB so far)\n",
      "24/12/17 22:50:16 WARN MemoryStore: Not enough space to cache rdd_449_0 in memory! (computed 10.8 MiB so far)\n",
      "24/12/17 22:50:20 WARN MemoryStore: Not enough space to cache rdd_360_0 in memory! (computed 353.7 MiB so far)\n",
      "24/12/17 22:50:21 WARN MemoryStore: Not enough space to cache rdd_449_0 in memory! (computed 10.8 MiB so far)\n",
      "24/12/17 22:50:24 WARN MemoryStore: Not enough space to cache rdd_360_0 in memory! (computed 353.7 MiB so far)\n",
      "24/12/17 22:50:25 WARN MemoryStore: Not enough space to cache rdd_449_0 in memory! (computed 10.8 MiB so far)\n",
      "24/12/17 22:50:29 WARN MemoryStore: Not enough space to cache rdd_360_0 in memory! (computed 353.7 MiB so far)\n",
      "24/12/17 22:50:29 WARN MemoryStore: Not enough space to cache rdd_449_0 in memory! (computed 10.8 MiB so far)\n",
      "24/12/17 22:50:32 WARN MemoryStore: Not enough space to cache rdd_360_0 in memory! (computed 353.7 MiB so far)\n",
      "24/12/17 22:50:32 WARN MemoryStore: Not enough space to cache rdd_360_0 in memory! (computed 8.4 MiB so far)\n",
      "24/12/17 22:50:33 WARN MemoryStore: Not enough space to cache rdd_360_0 in memory! (computed 3.7 MiB so far)\n",
      "24/12/17 22:50:33 WARN MemoryStore: Failed to reserve initial memory threshold of 1024.0 KiB for computing block rdd_446_0 in memory.\n",
      "24/12/17 22:50:33 WARN MemoryStore: Not enough space to cache rdd_446_0 in memory! (computed 384.0 B so far)\n",
      "24/12/17 22:50:33 WARN MemoryStore: Failed to reserve initial memory threshold of 1024.0 KiB for computing block rdd_468_0 in memory.\n",
      "24/12/17 22:50:33 WARN MemoryStore: Not enough space to cache rdd_468_0 in memory! (computed 384.0 B so far)\n",
      "24/12/17 22:50:33 WARN BlockManager: Persisting block rdd_468_0 to disk instead.\n",
      "24/12/17 22:50:37 WARN MemoryStore: Not enough space to cache rdd_468_0 in memory! (computed 3.7 MiB so far)\n",
      "24/12/17 22:50:37 WARN MemoryStore: Failed to reserve initial memory threshold of 1024.0 KiB for computing block rdd_471_0 in memory.\n",
      "24/12/17 22:50:37 WARN MemoryStore: Not enough space to cache rdd_471_0 in memory! (computed 384.0 B so far)\n",
      "24/12/17 22:50:37 WARN BlockManager: Persisting block rdd_471_0 to disk instead.\n",
      "24/12/17 22:50:41 WARN MemoryStore: Not enough space to cache rdd_471_0 in memory! (computed 10.8 MiB so far)\n",
      "24/12/17 22:50:44 WARN MemoryStore: Not enough space to cache rdd_360_0 in memory! (computed 353.7 MiB so far)\n",
      "24/12/17 22:50:44 WARN MemoryStore: Not enough space to cache rdd_471_0 in memory! (computed 10.8 MiB so far)\n",
      "24/12/17 22:50:48 WARN MemoryStore: Not enough space to cache rdd_360_0 in memory! (computed 353.7 MiB so far)\n",
      "24/12/17 22:50:49 WARN MemoryStore: Not enough space to cache rdd_471_0 in memory! (computed 10.8 MiB so far)\n",
      "24/12/17 22:50:53 WARN MemoryStore: Not enough space to cache rdd_360_0 in memory! (computed 353.7 MiB so far)\n",
      "24/12/17 22:50:53 WARN MemoryStore: Not enough space to cache rdd_471_0 in memory! (computed 10.8 MiB so far)\n",
      "24/12/17 22:50:57 WARN MemoryStore: Not enough space to cache rdd_360_0 in memory! (computed 353.7 MiB so far)\n",
      "24/12/17 22:50:57 WARN MemoryStore: Not enough space to cache rdd_471_0 in memory! (computed 10.8 MiB so far)\n",
      "24/12/17 22:51:01 WARN MemoryStore: Not enough space to cache rdd_360_0 in memory! (computed 353.7 MiB so far)\n",
      "24/12/17 22:51:01 WARN MemoryStore: Not enough space to cache rdd_360_0 in memory! (computed 8.4 MiB so far)\n",
      "24/12/17 22:51:01 WARN MemoryStore: Not enough space to cache rdd_360_0 in memory! (computed 3.7 MiB so far)\n",
      "24/12/17 22:51:01 WARN MemoryStore: Failed to reserve initial memory threshold of 1024.0 KiB for computing block rdd_468_0 in memory.\n",
      "24/12/17 22:51:01 WARN MemoryStore: Not enough space to cache rdd_468_0 in memory! (computed 384.0 B so far)\n",
      "24/12/17 22:51:01 WARN MemoryStore: Failed to reserve initial memory threshold of 1024.0 KiB for computing block rdd_490_0 in memory.\n",
      "24/12/17 22:51:01 WARN MemoryStore: Not enough space to cache rdd_490_0 in memory! (computed 384.0 B so far)\n",
      "24/12/17 22:51:01 WARN BlockManager: Persisting block rdd_490_0 to disk instead.\n",
      "24/12/17 22:51:05 WARN MemoryStore: Not enough space to cache rdd_490_0 in memory! (computed 3.7 MiB so far)\n",
      "24/12/17 22:51:05 WARN MemoryStore: Failed to reserve initial memory threshold of 1024.0 KiB for computing block rdd_493_0 in memory.\n",
      "24/12/17 22:51:05 WARN MemoryStore: Not enough space to cache rdd_493_0 in memory! (computed 384.0 B so far)\n",
      "24/12/17 22:51:05 WARN BlockManager: Persisting block rdd_493_0 to disk instead.\n",
      "24/12/17 22:51:08 WARN MemoryStore: Not enough space to cache rdd_493_0 in memory! (computed 10.8 MiB so far)\n",
      "24/12/17 22:51:11 WARN MemoryStore: Not enough space to cache rdd_360_0 in memory! (computed 353.7 MiB so far)\n",
      "24/12/17 22:51:12 WARN MemoryStore: Not enough space to cache rdd_493_0 in memory! (computed 10.8 MiB so far)\n",
      "24/12/17 22:51:16 WARN MemoryStore: Not enough space to cache rdd_360_0 in memory! (computed 353.7 MiB so far)\n",
      "24/12/17 22:51:16 WARN MemoryStore: Not enough space to cache rdd_493_0 in memory! (computed 10.8 MiB so far)\n",
      "24/12/17 22:51:20 WARN MemoryStore: Not enough space to cache rdd_360_0 in memory! (computed 353.7 MiB so far)\n",
      "24/12/17 22:51:20 WARN MemoryStore: Not enough space to cache rdd_493_0 in memory! (computed 10.8 MiB so far)\n",
      "24/12/17 22:51:24 WARN MemoryStore: Not enough space to cache rdd_360_0 in memory! (computed 353.7 MiB so far)\n",
      "24/12/17 22:51:24 WARN MemoryStore: Not enough space to cache rdd_493_0 in memory! (computed 10.8 MiB so far)\n",
      "24/12/17 22:51:28 WARN MemoryStore: Not enough space to cache rdd_360_0 in memory! (computed 353.7 MiB so far)\n",
      "24/12/17 22:51:28 WARN MemoryStore: Not enough space to cache rdd_360_0 in memory! (computed 8.4 MiB so far)\n",
      "24/12/17 22:51:28 WARN MemoryStore: Not enough space to cache rdd_360_0 in memory! (computed 3.7 MiB so far)\n",
      "24/12/17 22:51:28 WARN MemoryStore: Failed to reserve initial memory threshold of 1024.0 KiB for computing block rdd_490_0 in memory.\n",
      "24/12/17 22:51:28 WARN MemoryStore: Not enough space to cache rdd_490_0 in memory! (computed 384.0 B so far)\n",
      "24/12/17 22:51:28 WARN MemoryStore: Failed to reserve initial memory threshold of 1024.0 KiB for computing block rdd_512_0 in memory.\n",
      "24/12/17 22:51:28 WARN MemoryStore: Not enough space to cache rdd_512_0 in memory! (computed 384.0 B so far)\n",
      "24/12/17 22:51:28 WARN BlockManager: Persisting block rdd_512_0 to disk instead.\n",
      "24/12/17 22:51:32 WARN MemoryStore: Not enough space to cache rdd_512_0 in memory! (computed 3.7 MiB so far)\n",
      "24/12/17 22:51:32 WARN MemoryStore: Failed to reserve initial memory threshold of 1024.0 KiB for computing block rdd_515_0 in memory.\n",
      "24/12/17 22:51:32 WARN MemoryStore: Not enough space to cache rdd_515_0 in memory! (computed 384.0 B so far)\n",
      "24/12/17 22:51:32 WARN BlockManager: Persisting block rdd_515_0 to disk instead.\n",
      "24/12/17 22:51:36 WARN MemoryStore: Not enough space to cache rdd_515_0 in memory! (computed 10.8 MiB so far)\n",
      "24/12/17 22:51:39 WARN MemoryStore: Not enough space to cache rdd_360_0 in memory! (computed 353.7 MiB so far)\n",
      "24/12/17 22:51:40 WARN MemoryStore: Not enough space to cache rdd_515_0 in memory! (computed 10.8 MiB so far)\n",
      "24/12/17 22:51:43 WARN MemoryStore: Not enough space to cache rdd_360_0 in memory! (computed 353.7 MiB so far)\n",
      "24/12/17 22:51:43 WARN MemoryStore: Not enough space to cache rdd_515_0 in memory! (computed 10.8 MiB so far)\n",
      "24/12/17 22:51:47 WARN MemoryStore: Not enough space to cache rdd_360_0 in memory! (computed 353.7 MiB so far)\n",
      "24/12/17 22:51:47 WARN MemoryStore: Not enough space to cache rdd_515_0 in memory! (computed 10.8 MiB so far)\n",
      "24/12/17 22:51:50 WARN MemoryStore: Not enough space to cache rdd_360_0 in memory! (computed 353.7 MiB so far)\n",
      "24/12/17 22:51:51 WARN MemoryStore: Not enough space to cache rdd_515_0 in memory! (computed 10.8 MiB so far)\n",
      "24/12/17 22:51:56 WARN MemoryStore: Not enough space to cache rdd_360_0 in memory! (computed 353.7 MiB so far)\n",
      "24/12/17 22:51:56 WARN MemoryStore: Not enough space to cache rdd_360_0 in memory! (computed 8.4 MiB so far)\n",
      "24/12/17 22:51:56 WARN MemoryStore: Not enough space to cache rdd_360_0 in memory! (computed 3.7 MiB so far)\n",
      "24/12/17 22:51:56 WARN MemoryStore: Failed to reserve initial memory threshold of 1024.0 KiB for computing block rdd_512_0 in memory.\n",
      "24/12/17 22:51:56 WARN MemoryStore: Not enough space to cache rdd_512_0 in memory! (computed 384.0 B so far)\n",
      "24/12/17 22:51:56 WARN MemoryStore: Failed to reserve initial memory threshold of 1024.0 KiB for computing block rdd_534_0 in memory.\n",
      "24/12/17 22:51:56 WARN MemoryStore: Not enough space to cache rdd_534_0 in memory! (computed 384.0 B so far)\n",
      "24/12/17 22:51:56 WARN BlockManager: Persisting block rdd_534_0 to disk instead.\n",
      "24/12/17 22:52:00 WARN MemoryStore: Not enough space to cache rdd_534_0 in memory! (computed 3.7 MiB so far)\n",
      "24/12/17 22:52:00 WARN MemoryStore: Failed to reserve initial memory threshold of 1024.0 KiB for computing block rdd_537_0 in memory.\n",
      "24/12/17 22:52:00 WARN MemoryStore: Not enough space to cache rdd_537_0 in memory! (computed 384.0 B so far)\n",
      "24/12/17 22:52:00 WARN BlockManager: Persisting block rdd_537_0 to disk instead.\n",
      "24/12/17 22:52:03 WARN MemoryStore: Not enough space to cache rdd_537_0 in memory! (computed 10.8 MiB so far)\n",
      "24/12/17 22:52:07 WARN MemoryStore: Not enough space to cache rdd_360_0 in memory! (computed 353.7 MiB so far)\n",
      "24/12/17 22:52:07 WARN MemoryStore: Not enough space to cache rdd_537_0 in memory! (computed 10.8 MiB so far)\n",
      "24/12/17 22:52:10 WARN MemoryStore: Not enough space to cache rdd_360_0 in memory! (computed 353.7 MiB so far)\n",
      "24/12/17 22:52:11 WARN MemoryStore: Not enough space to cache rdd_537_0 in memory! (computed 10.8 MiB so far)\n",
      "24/12/17 22:52:15 WARN MemoryStore: Not enough space to cache rdd_360_0 in memory! (computed 353.7 MiB so far)\n",
      "24/12/17 22:52:15 WARN MemoryStore: Not enough space to cache rdd_537_0 in memory! (computed 10.8 MiB so far)\n",
      "24/12/17 22:52:18 WARN MemoryStore: Not enough space to cache rdd_360_0 in memory! (computed 353.7 MiB so far)\n",
      "24/12/17 22:52:19 WARN MemoryStore: Not enough space to cache rdd_537_0 in memory! (computed 10.8 MiB so far)\n",
      "24/12/17 22:52:23 WARN MemoryStore: Not enough space to cache rdd_360_0 in memory! (computed 353.7 MiB so far)\n",
      "24/12/17 22:52:23 WARN MemoryStore: Not enough space to cache rdd_360_0 in memory! (computed 8.4 MiB so far)\n",
      "24/12/17 22:52:23 WARN MemoryStore: Not enough space to cache rdd_360_0 in memory! (computed 3.7 MiB so far)\n",
      "24/12/17 22:52:23 WARN MemoryStore: Failed to reserve initial memory threshold of 1024.0 KiB for computing block rdd_534_0 in memory.\n",
      "24/12/17 22:52:23 WARN MemoryStore: Not enough space to cache rdd_534_0 in memory! (computed 384.0 B so far)\n",
      "24/12/17 22:52:23 WARN MemoryStore: Failed to reserve initial memory threshold of 1024.0 KiB for computing block rdd_556_0 in memory.\n",
      "24/12/17 22:52:23 WARN MemoryStore: Not enough space to cache rdd_556_0 in memory! (computed 384.0 B so far)\n",
      "24/12/17 22:52:23 WARN BlockManager: Persisting block rdd_556_0 to disk instead.\n",
      "24/12/17 22:52:27 WARN MemoryStore: Not enough space to cache rdd_556_0 in memory! (computed 3.7 MiB so far)\n",
      "24/12/17 22:52:27 WARN MemoryStore: Failed to reserve initial memory threshold of 1024.0 KiB for computing block rdd_559_0 in memory.\n",
      "24/12/17 22:52:27 WARN MemoryStore: Not enough space to cache rdd_559_0 in memory! (computed 384.0 B so far)\n",
      "24/12/17 22:52:27 WARN BlockManager: Persisting block rdd_559_0 to disk instead.\n",
      "24/12/17 22:52:31 WARN MemoryStore: Not enough space to cache rdd_559_0 in memory! (computed 10.8 MiB so far)\n",
      "24/12/17 22:52:35 WARN MemoryStore: Not enough space to cache rdd_360_0 in memory! (computed 353.7 MiB so far)\n",
      "24/12/17 22:52:35 WARN MemoryStore: Not enough space to cache rdd_559_0 in memory! (computed 10.8 MiB so far)\n",
      "24/12/17 22:52:38 WARN MemoryStore: Not enough space to cache rdd_360_0 in memory! (computed 353.7 MiB so far)\n",
      "24/12/17 22:52:39 WARN MemoryStore: Not enough space to cache rdd_559_0 in memory! (computed 10.8 MiB so far)\n",
      "24/12/17 22:52:43 WARN MemoryStore: Not enough space to cache rdd_360_0 in memory! (computed 353.7 MiB so far)\n",
      "24/12/17 22:52:43 WARN MemoryStore: Not enough space to cache rdd_559_0 in memory! (computed 10.8 MiB so far)\n",
      "24/12/17 22:52:47 WARN MemoryStore: Not enough space to cache rdd_360_0 in memory! (computed 353.7 MiB so far)\n",
      "24/12/17 22:52:47 WARN MemoryStore: Not enough space to cache rdd_559_0 in memory! (computed 10.8 MiB so far)\n",
      "24/12/17 22:52:51 WARN MemoryStore: Not enough space to cache rdd_360_0 in memory! (computed 353.7 MiB so far)\n",
      "24/12/17 22:52:51 WARN MemoryStore: Not enough space to cache rdd_360_0 in memory! (computed 8.4 MiB so far)\n",
      "24/12/17 22:52:51 WARN MemoryStore: Not enough space to cache rdd_360_0 in memory! (computed 3.7 MiB so far)\n",
      "24/12/17 22:52:51 WARN MemoryStore: Failed to reserve initial memory threshold of 1024.0 KiB for computing block rdd_556_0 in memory.\n",
      "24/12/17 22:52:51 WARN MemoryStore: Not enough space to cache rdd_556_0 in memory! (computed 384.0 B so far)\n",
      "24/12/17 22:52:51 WARN MemoryStore: Failed to reserve initial memory threshold of 1024.0 KiB for computing block rdd_578_0 in memory.\n",
      "24/12/17 22:52:51 WARN MemoryStore: Not enough space to cache rdd_578_0 in memory! (computed 384.0 B so far)\n",
      "24/12/17 22:52:51 WARN BlockManager: Persisting block rdd_578_0 to disk instead.\n",
      "24/12/17 22:52:55 WARN MemoryStore: Not enough space to cache rdd_578_0 in memory! (computed 3.7 MiB so far)\n",
      "24/12/17 22:52:55 WARN MemoryStore: Failed to reserve initial memory threshold of 1024.0 KiB for computing block rdd_581_0 in memory.\n",
      "24/12/17 22:52:55 WARN MemoryStore: Not enough space to cache rdd_581_0 in memory! (computed 384.0 B so far)\n",
      "24/12/17 22:52:55 WARN BlockManager: Persisting block rdd_581_0 to disk instead.\n",
      "24/12/17 22:52:59 WARN MemoryStore: Not enough space to cache rdd_581_0 in memory! (computed 10.8 MiB so far)\n",
      "24/12/17 22:53:03 WARN MemoryStore: Not enough space to cache rdd_360_0 in memory! (computed 353.7 MiB so far)\n",
      "24/12/17 22:53:03 WARN MemoryStore: Not enough space to cache rdd_581_0 in memory! (computed 10.8 MiB so far)\n",
      "24/12/17 22:53:06 WARN MemoryStore: Not enough space to cache rdd_360_0 in memory! (computed 353.7 MiB so far)\n",
      "24/12/17 22:53:07 WARN MemoryStore: Not enough space to cache rdd_581_0 in memory! (computed 10.8 MiB so far)\n",
      "24/12/17 22:53:11 WARN MemoryStore: Not enough space to cache rdd_360_0 in memory! (computed 353.7 MiB so far)\n",
      "24/12/17 22:53:11 WARN MemoryStore: Not enough space to cache rdd_581_0 in memory! (computed 10.8 MiB so far)\n",
      "24/12/17 22:53:15 WARN MemoryStore: Not enough space to cache rdd_360_0 in memory! (computed 353.7 MiB so far)\n",
      "24/12/17 22:53:15 WARN MemoryStore: Not enough space to cache rdd_581_0 in memory! (computed 10.8 MiB so far)\n",
      "24/12/17 22:53:19 WARN MemoryStore: Not enough space to cache rdd_360_0 in memory! (computed 353.7 MiB so far)\n",
      "24/12/17 22:53:19 WARN MemoryStore: Not enough space to cache rdd_360_0 in memory! (computed 8.4 MiB so far)\n",
      "24/12/17 22:53:19 WARN MemoryStore: Not enough space to cache rdd_360_0 in memory! (computed 3.7 MiB so far)\n",
      "24/12/17 22:53:19 WARN MemoryStore: Failed to reserve initial memory threshold of 1024.0 KiB for computing block rdd_578_0 in memory.\n",
      "24/12/17 22:53:19 WARN MemoryStore: Not enough space to cache rdd_578_0 in memory! (computed 384.0 B so far)\n",
      "24/12/17 22:53:19 WARN MemoryStore: Failed to reserve initial memory threshold of 1024.0 KiB for computing block rdd_600_0 in memory.\n",
      "24/12/17 22:53:19 WARN MemoryStore: Not enough space to cache rdd_600_0 in memory! (computed 384.0 B so far)\n",
      "24/12/17 22:53:19 WARN BlockManager: Persisting block rdd_600_0 to disk instead.\n",
      "24/12/17 22:53:23 WARN MemoryStore: Not enough space to cache rdd_600_0 in memory! (computed 3.7 MiB so far)\n",
      "24/12/17 22:53:23 WARN MemoryStore: Failed to reserve initial memory threshold of 1024.0 KiB for computing block rdd_603_0 in memory.\n",
      "24/12/17 22:53:23 WARN MemoryStore: Not enough space to cache rdd_603_0 in memory! (computed 384.0 B so far)\n",
      "24/12/17 22:53:23 WARN BlockManager: Persisting block rdd_603_0 to disk instead.\n",
      "24/12/17 22:53:27 WARN MemoryStore: Not enough space to cache rdd_603_0 in memory! (computed 10.8 MiB so far)\n",
      "24/12/17 22:53:30 WARN MemoryStore: Not enough space to cache rdd_360_0 in memory! (computed 353.7 MiB so far)\n",
      "24/12/17 22:53:30 WARN MemoryStore: Not enough space to cache rdd_603_0 in memory! (computed 10.8 MiB so far)\n",
      "24/12/17 22:53:34 WARN MemoryStore: Not enough space to cache rdd_360_0 in memory! (computed 353.7 MiB so far)\n",
      "24/12/17 22:53:34 WARN MemoryStore: Not enough space to cache rdd_603_0 in memory! (computed 10.8 MiB so far)\n",
      "24/12/17 22:53:38 WARN MemoryStore: Not enough space to cache rdd_360_0 in memory! (computed 353.7 MiB so far)\n",
      "24/12/17 22:53:38 WARN MemoryStore: Not enough space to cache rdd_603_0 in memory! (computed 10.8 MiB so far)\n",
      "24/12/17 22:53:42 WARN MemoryStore: Not enough space to cache rdd_360_0 in memory! (computed 353.7 MiB so far)\n",
      "24/12/17 22:53:42 WARN MemoryStore: Not enough space to cache rdd_603_0 in memory! (computed 10.8 MiB so far)\n",
      "24/12/17 22:53:47 WARN MemoryStore: Not enough space to cache rdd_360_0 in memory! (computed 353.7 MiB so far)\n",
      "24/12/17 22:53:47 WARN MemoryStore: Not enough space to cache rdd_360_0 in memory! (computed 8.4 MiB so far)\n",
      "24/12/17 22:53:47 WARN MemoryStore: Not enough space to cache rdd_360_0 in memory! (computed 3.7 MiB so far)\n",
      "24/12/17 22:53:47 WARN MemoryStore: Failed to reserve initial memory threshold of 1024.0 KiB for computing block rdd_600_0 in memory.\n",
      "24/12/17 22:53:47 WARN MemoryStore: Not enough space to cache rdd_600_0 in memory! (computed 384.0 B so far)\n",
      "24/12/17 22:53:47 WARN MemoryStore: Failed to reserve initial memory threshold of 1024.0 KiB for computing block rdd_622_0 in memory.\n",
      "24/12/17 22:53:47 WARN MemoryStore: Not enough space to cache rdd_622_0 in memory! (computed 384.0 B so far)\n",
      "24/12/17 22:53:47 WARN BlockManager: Persisting block rdd_622_0 to disk instead.\n",
      "24/12/17 22:53:51 WARN MemoryStore: Not enough space to cache rdd_622_0 in memory! (computed 3.7 MiB so far)\n",
      "24/12/17 22:53:51 WARN MemoryStore: Failed to reserve initial memory threshold of 1024.0 KiB for computing block rdd_625_0 in memory.\n",
      "24/12/17 22:53:51 WARN MemoryStore: Not enough space to cache rdd_625_0 in memory! (computed 384.0 B so far)\n",
      "24/12/17 22:53:51 WARN BlockManager: Persisting block rdd_625_0 to disk instead.\n",
      "24/12/17 22:53:54 WARN MemoryStore: Not enough space to cache rdd_625_0 in memory! (computed 10.8 MiB so far)\n",
      "24/12/17 22:53:58 WARN MemoryStore: Not enough space to cache rdd_360_0 in memory! (computed 353.7 MiB so far)\n",
      "24/12/17 22:53:58 WARN MemoryStore: Not enough space to cache rdd_625_0 in memory! (computed 10.8 MiB so far)\n",
      "24/12/17 22:54:02 WARN MemoryStore: Not enough space to cache rdd_360_0 in memory! (computed 353.7 MiB so far)\n",
      "24/12/17 22:54:02 WARN MemoryStore: Not enough space to cache rdd_625_0 in memory! (computed 10.8 MiB so far)\n",
      "24/12/17 22:54:05 WARN MemoryStore: Not enough space to cache rdd_360_0 in memory! (computed 353.7 MiB so far)\n",
      "24/12/17 22:54:07 WARN MemoryStore: Not enough space to cache rdd_625_0 in memory! (computed 10.8 MiB so far)\n",
      "24/12/17 22:54:10 WARN MemoryStore: Not enough space to cache rdd_360_0 in memory! (computed 353.7 MiB so far)\n",
      "24/12/17 22:54:10 WARN MemoryStore: Not enough space to cache rdd_625_0 in memory! (computed 10.8 MiB so far)\n",
      "24/12/17 22:54:14 WARN MemoryStore: Not enough space to cache rdd_360_0 in memory! (computed 353.7 MiB so far)\n",
      "24/12/17 22:54:14 WARN MemoryStore: Not enough space to cache rdd_360_0 in memory! (computed 8.4 MiB so far)\n",
      "24/12/17 22:54:15 WARN MemoryStore: Not enough space to cache rdd_360_0 in memory! (computed 3.7 MiB so far)\n",
      "24/12/17 22:54:15 WARN MemoryStore: Failed to reserve initial memory threshold of 1024.0 KiB for computing block rdd_622_0 in memory.\n",
      "24/12/17 22:54:15 WARN MemoryStore: Not enough space to cache rdd_622_0 in memory! (computed 384.0 B so far)\n",
      "24/12/17 22:54:15 WARN MemoryStore: Failed to reserve initial memory threshold of 1024.0 KiB for computing block rdd_644_0 in memory.\n",
      "24/12/17 22:54:15 WARN MemoryStore: Not enough space to cache rdd_644_0 in memory! (computed 384.0 B so far)\n",
      "24/12/17 22:54:15 WARN BlockManager: Persisting block rdd_644_0 to disk instead.\n",
      "24/12/17 22:54:18 WARN MemoryStore: Not enough space to cache rdd_644_0 in memory! (computed 3.7 MiB so far)\n",
      "24/12/17 22:54:18 WARN MemoryStore: Failed to reserve initial memory threshold of 1024.0 KiB for computing block rdd_647_0 in memory.\n",
      "24/12/17 22:54:18 WARN MemoryStore: Not enough space to cache rdd_647_0 in memory! (computed 384.0 B so far)\n",
      "24/12/17 22:54:18 WARN BlockManager: Persisting block rdd_647_0 to disk instead.\n",
      "24/12/17 22:54:22 WARN MemoryStore: Not enough space to cache rdd_647_0 in memory! (computed 10.8 MiB so far)\n",
      "24/12/17 22:54:25 WARN MemoryStore: Not enough space to cache rdd_360_0 in memory! (computed 353.7 MiB so far)\n",
      "24/12/17 22:54:26 WARN MemoryStore: Not enough space to cache rdd_647_0 in memory! (computed 10.8 MiB so far)\n",
      "24/12/17 22:54:30 WARN MemoryStore: Not enough space to cache rdd_360_0 in memory! (computed 353.7 MiB so far)\n",
      "24/12/17 22:54:30 WARN MemoryStore: Not enough space to cache rdd_647_0 in memory! (computed 10.8 MiB so far)\n",
      "24/12/17 22:54:34 WARN MemoryStore: Not enough space to cache rdd_360_0 in memory! (computed 353.7 MiB so far)\n",
      "24/12/17 22:54:34 WARN MemoryStore: Not enough space to cache rdd_647_0 in memory! (computed 10.8 MiB so far)\n",
      "24/12/17 22:54:38 WARN MemoryStore: Not enough space to cache rdd_360_0 in memory! (computed 353.7 MiB so far)\n",
      "24/12/17 22:54:38 WARN MemoryStore: Not enough space to cache rdd_647_0 in memory! (computed 10.8 MiB so far)\n",
      "24/12/17 22:54:43 WARN MemoryStore: Not enough space to cache rdd_360_0 in memory! (computed 353.7 MiB so far)\n",
      "24/12/17 22:54:43 WARN MemoryStore: Not enough space to cache rdd_360_0 in memory! (computed 8.4 MiB so far)\n",
      "24/12/17 22:54:43 WARN MemoryStore: Not enough space to cache rdd_360_0 in memory! (computed 3.7 MiB so far)\n",
      "24/12/17 22:54:43 WARN MemoryStore: Failed to reserve initial memory threshold of 1024.0 KiB for computing block rdd_644_0 in memory.\n",
      "24/12/17 22:54:43 WARN MemoryStore: Not enough space to cache rdd_644_0 in memory! (computed 384.0 B so far)\n",
      "24/12/17 22:54:43 WARN MemoryStore: Failed to reserve initial memory threshold of 1024.0 KiB for computing block rdd_666_0 in memory.\n",
      "24/12/17 22:54:43 WARN MemoryStore: Not enough space to cache rdd_666_0 in memory! (computed 384.0 B so far)\n",
      "24/12/17 22:54:43 WARN BlockManager: Persisting block rdd_666_0 to disk instead.\n",
      "24/12/17 22:54:46 WARN MemoryStore: Not enough space to cache rdd_666_0 in memory! (computed 3.7 MiB so far)\n",
      "24/12/17 22:54:46 WARN MemoryStore: Failed to reserve initial memory threshold of 1024.0 KiB for computing block rdd_669_0 in memory.\n",
      "24/12/17 22:54:46 WARN MemoryStore: Not enough space to cache rdd_669_0 in memory! (computed 384.0 B so far)\n",
      "24/12/17 22:54:46 WARN BlockManager: Persisting block rdd_669_0 to disk instead.\n",
      "24/12/17 22:54:50 WARN MemoryStore: Not enough space to cache rdd_669_0 in memory! (computed 10.8 MiB so far)\n",
      "24/12/17 22:54:54 WARN MemoryStore: Not enough space to cache rdd_360_0 in memory! (computed 353.7 MiB so far)\n",
      "24/12/17 22:54:54 WARN MemoryStore: Not enough space to cache rdd_669_0 in memory! (computed 10.8 MiB so far)\n",
      "24/12/17 22:54:58 WARN MemoryStore: Not enough space to cache rdd_360_0 in memory! (computed 353.7 MiB so far)\n",
      "24/12/17 22:54:58 WARN MemoryStore: Not enough space to cache rdd_669_0 in memory! (computed 10.8 MiB so far)\n",
      "24/12/17 22:55:02 WARN MemoryStore: Not enough space to cache rdd_360_0 in memory! (computed 353.7 MiB so far)\n",
      "24/12/17 22:55:03 WARN MemoryStore: Not enough space to cache rdd_669_0 in memory! (computed 10.8 MiB so far)\n",
      "24/12/17 22:55:06 WARN MemoryStore: Not enough space to cache rdd_360_0 in memory! (computed 353.7 MiB so far)\n",
      "24/12/17 22:55:07 WARN MemoryStore: Not enough space to cache rdd_669_0 in memory! (computed 10.8 MiB so far)\n",
      "24/12/17 22:55:11 WARN MemoryStore: Not enough space to cache rdd_360_0 in memory! (computed 353.7 MiB so far)\n",
      "24/12/17 22:55:11 WARN MemoryStore: Not enough space to cache rdd_360_0 in memory! (computed 8.4 MiB so far)\n",
      "24/12/17 22:55:11 WARN MemoryStore: Not enough space to cache rdd_360_0 in memory! (computed 3.7 MiB so far)\n",
      "24/12/17 22:55:11 WARN MemoryStore: Failed to reserve initial memory threshold of 1024.0 KiB for computing block rdd_666_0 in memory.\n",
      "24/12/17 22:55:11 WARN MemoryStore: Not enough space to cache rdd_666_0 in memory! (computed 384.0 B so far)\n",
      "24/12/17 22:55:11 WARN MemoryStore: Failed to reserve initial memory threshold of 1024.0 KiB for computing block rdd_688_0 in memory.\n",
      "24/12/17 22:55:11 WARN MemoryStore: Not enough space to cache rdd_688_0 in memory! (computed 384.0 B so far)\n",
      "24/12/17 22:55:11 WARN BlockManager: Persisting block rdd_688_0 to disk instead.\n",
      "24/12/17 22:55:15 WARN MemoryStore: Not enough space to cache rdd_688_0 in memory! (computed 3.7 MiB so far)\n",
      "24/12/17 22:55:15 WARN MemoryStore: Failed to reserve initial memory threshold of 1024.0 KiB for computing block rdd_691_0 in memory.\n",
      "24/12/17 22:55:15 WARN MemoryStore: Not enough space to cache rdd_691_0 in memory! (computed 384.0 B so far)\n",
      "24/12/17 22:55:15 WARN BlockManager: Persisting block rdd_691_0 to disk instead.\n",
      "24/12/17 22:55:19 WARN MemoryStore: Not enough space to cache rdd_691_0 in memory! (computed 10.8 MiB so far)\n",
      "24/12/17 22:55:22 WARN MemoryStore: Not enough space to cache rdd_360_0 in memory! (computed 353.7 MiB so far)\n",
      "24/12/17 22:55:22 WARN MemoryStore: Not enough space to cache rdd_691_0 in memory! (computed 10.8 MiB so far)\n",
      "24/12/17 22:55:26 WARN MemoryStore: Not enough space to cache rdd_360_0 in memory! (computed 353.7 MiB so far)\n",
      "24/12/17 22:55:27 WARN MemoryStore: Not enough space to cache rdd_691_0 in memory! (computed 10.8 MiB so far)\n",
      "24/12/17 22:55:31 WARN MemoryStore: Not enough space to cache rdd_360_0 in memory! (computed 353.7 MiB so far)\n",
      "24/12/17 22:55:31 WARN MemoryStore: Not enough space to cache rdd_691_0 in memory! (computed 10.8 MiB so far)\n",
      "24/12/17 22:55:35 WARN MemoryStore: Not enough space to cache rdd_360_0 in memory! (computed 353.7 MiB so far)\n",
      "24/12/17 22:55:35 WARN MemoryStore: Not enough space to cache rdd_691_0 in memory! (computed 10.8 MiB so far)\n",
      "24/12/17 22:55:39 WARN MemoryStore: Not enough space to cache rdd_360_0 in memory! (computed 353.7 MiB so far)\n",
      "24/12/17 22:55:39 WARN MemoryStore: Not enough space to cache rdd_360_0 in memory! (computed 8.4 MiB so far)\n",
      "24/12/17 22:55:39 WARN MemoryStore: Not enough space to cache rdd_360_0 in memory! (computed 3.7 MiB so far)\n",
      "24/12/17 22:55:39 WARN MemoryStore: Failed to reserve initial memory threshold of 1024.0 KiB for computing block rdd_688_0 in memory.\n",
      "24/12/17 22:55:39 WARN MemoryStore: Not enough space to cache rdd_688_0 in memory! (computed 384.0 B so far)\n",
      "24/12/17 22:55:39 WARN MemoryStore: Failed to reserve initial memory threshold of 1024.0 KiB for computing block rdd_710_0 in memory.\n",
      "24/12/17 22:55:39 WARN MemoryStore: Not enough space to cache rdd_710_0 in memory! (computed 384.0 B so far)\n",
      "24/12/17 22:55:39 WARN BlockManager: Persisting block rdd_710_0 to disk instead.\n",
      "24/12/17 22:55:43 WARN MemoryStore: Not enough space to cache rdd_710_0 in memory! (computed 3.7 MiB so far)\n",
      "24/12/17 22:55:43 WARN MemoryStore: Failed to reserve initial memory threshold of 1024.0 KiB for computing block rdd_713_0 in memory.\n",
      "24/12/17 22:55:43 WARN MemoryStore: Not enough space to cache rdd_713_0 in memory! (computed 384.0 B so far)\n",
      "24/12/17 22:55:43 WARN BlockManager: Persisting block rdd_713_0 to disk instead.\n",
      "24/12/17 22:55:47 WARN MemoryStore: Not enough space to cache rdd_713_0 in memory! (computed 10.8 MiB so far)\n",
      "24/12/17 22:55:50 WARN MemoryStore: Not enough space to cache rdd_360_0 in memory! (computed 353.7 MiB so far)\n",
      "24/12/17 22:55:50 WARN MemoryStore: Not enough space to cache rdd_713_0 in memory! (computed 10.8 MiB so far)\n",
      "24/12/17 22:55:55 WARN MemoryStore: Not enough space to cache rdd_360_0 in memory! (computed 353.7 MiB so far)\n",
      "24/12/17 22:55:55 WARN MemoryStore: Not enough space to cache rdd_713_0 in memory! (computed 10.8 MiB so far)\n",
      "24/12/17 22:55:58 WARN MemoryStore: Not enough space to cache rdd_360_0 in memory! (computed 353.7 MiB so far)\n",
      "24/12/17 22:55:59 WARN MemoryStore: Not enough space to cache rdd_713_0 in memory! (computed 10.8 MiB so far)\n",
      "24/12/17 22:56:02 WARN MemoryStore: Not enough space to cache rdd_360_0 in memory! (computed 353.7 MiB so far)\n",
      "24/12/17 22:56:03 WARN MemoryStore: Not enough space to cache rdd_713_0 in memory! (computed 10.8 MiB so far)\n",
      "24/12/17 22:56:06 WARN MemoryStore: Not enough space to cache rdd_360_0 in memory! (computed 353.7 MiB so far)\n",
      "24/12/17 22:56:08 WARN MemoryStore: Not enough space to cache rdd_360_0 in memory! (computed 8.4 MiB so far)\n",
      "24/12/17 22:56:08 WARN MemoryStore: Not enough space to cache rdd_360_0 in memory! (computed 3.7 MiB so far)\n",
      "24/12/17 22:56:08 WARN MemoryStore: Failed to reserve initial memory threshold of 1024.0 KiB for computing block rdd_710_0 in memory.\n",
      "24/12/17 22:56:08 WARN MemoryStore: Not enough space to cache rdd_710_0 in memory! (computed 384.0 B so far)\n",
      "24/12/17 22:56:08 WARN MemoryStore: Failed to reserve initial memory threshold of 1024.0 KiB for computing block rdd_732_0 in memory.\n",
      "24/12/17 22:56:08 WARN MemoryStore: Not enough space to cache rdd_732_0 in memory! (computed 384.0 B so far)\n",
      "24/12/17 22:56:08 WARN BlockManager: Persisting block rdd_732_0 to disk instead.\n",
      "24/12/17 22:56:11 WARN MemoryStore: Not enough space to cache rdd_732_0 in memory! (computed 3.7 MiB so far)\n",
      "24/12/17 22:56:11 WARN MemoryStore: Failed to reserve initial memory threshold of 1024.0 KiB for computing block rdd_735_0 in memory.\n",
      "24/12/17 22:56:11 WARN MemoryStore: Not enough space to cache rdd_735_0 in memory! (computed 384.0 B so far)\n",
      "24/12/17 22:56:11 WARN BlockManager: Persisting block rdd_735_0 to disk instead.\n",
      "24/12/17 22:56:15 WARN MemoryStore: Not enough space to cache rdd_735_0 in memory! (computed 10.8 MiB so far)\n",
      "24/12/17 22:56:19 WARN MemoryStore: Not enough space to cache rdd_360_0 in memory! (computed 353.7 MiB so far)\n",
      "24/12/17 22:56:19 WARN MemoryStore: Not enough space to cache rdd_735_0 in memory! (computed 10.8 MiB so far)\n",
      "24/12/17 22:56:23 WARN MemoryStore: Not enough space to cache rdd_360_0 in memory! (computed 353.7 MiB so far)\n",
      "24/12/17 22:56:23 WARN MemoryStore: Not enough space to cache rdd_735_0 in memory! (computed 10.8 MiB so far)\n",
      "24/12/17 22:56:27 WARN MemoryStore: Not enough space to cache rdd_360_0 in memory! (computed 353.7 MiB so far)\n",
      "24/12/17 22:56:28 WARN MemoryStore: Not enough space to cache rdd_735_0 in memory! (computed 10.8 MiB so far)\n",
      "24/12/17 22:56:32 WARN MemoryStore: Not enough space to cache rdd_360_0 in memory! (computed 353.7 MiB so far)\n",
      "24/12/17 22:56:32 WARN MemoryStore: Not enough space to cache rdd_735_0 in memory! (computed 10.8 MiB so far)\n",
      "24/12/17 22:56:35 WARN MemoryStore: Not enough space to cache rdd_360_0 in memory! (computed 353.7 MiB so far)\n",
      "24/12/17 22:56:35 WARN MemoryStore: Not enough space to cache rdd_360_0 in memory! (computed 8.4 MiB so far)\n",
      "24/12/17 22:56:36 WARN MemoryStore: Not enough space to cache rdd_360_0 in memory! (computed 3.7 MiB so far)\n",
      "24/12/17 22:56:36 WARN MemoryStore: Failed to reserve initial memory threshold of 1024.0 KiB for computing block rdd_732_0 in memory.\n",
      "24/12/17 22:56:36 WARN MemoryStore: Not enough space to cache rdd_732_0 in memory! (computed 384.0 B so far)\n",
      "24/12/17 22:56:36 WARN MemoryStore: Failed to reserve initial memory threshold of 1024.0 KiB for computing block rdd_754_0 in memory.\n",
      "24/12/17 22:56:36 WARN MemoryStore: Not enough space to cache rdd_754_0 in memory! (computed 384.0 B so far)\n",
      "24/12/17 22:56:36 WARN BlockManager: Persisting block rdd_754_0 to disk instead.\n",
      "24/12/17 22:56:40 WARN MemoryStore: Not enough space to cache rdd_754_0 in memory! (computed 3.7 MiB so far)\n",
      "24/12/17 22:56:40 WARN MemoryStore: Failed to reserve initial memory threshold of 1024.0 KiB for computing block rdd_757_0 in memory.\n",
      "24/12/17 22:56:40 WARN MemoryStore: Not enough space to cache rdd_757_0 in memory! (computed 384.0 B so far)\n",
      "24/12/17 22:56:40 WARN BlockManager: Persisting block rdd_757_0 to disk instead.\n",
      "24/12/17 22:56:44 WARN MemoryStore: Not enough space to cache rdd_757_0 in memory! (computed 10.8 MiB so far)\n",
      "24/12/17 22:56:48 WARN MemoryStore: Not enough space to cache rdd_360_0 in memory! (computed 353.7 MiB so far)\n",
      "24/12/17 22:56:48 WARN MemoryStore: Not enough space to cache rdd_757_0 in memory! (computed 10.8 MiB so far)\n",
      "24/12/17 22:56:52 WARN MemoryStore: Not enough space to cache rdd_360_0 in memory! (computed 353.7 MiB so far)\n",
      "24/12/17 22:56:52 WARN MemoryStore: Not enough space to cache rdd_757_0 in memory! (computed 10.8 MiB so far)\n",
      "24/12/17 22:56:56 WARN MemoryStore: Not enough space to cache rdd_360_0 in memory! (computed 353.7 MiB so far)\n",
      "24/12/17 22:56:56 WARN MemoryStore: Not enough space to cache rdd_757_0 in memory! (computed 10.8 MiB so far)\n",
      "24/12/17 22:57:00 WARN MemoryStore: Not enough space to cache rdd_360_0 in memory! (computed 353.7 MiB so far)\n",
      "24/12/17 22:57:00 WARN MemoryStore: Not enough space to cache rdd_757_0 in memory! (computed 10.8 MiB so far)\n",
      "24/12/17 22:57:05 WARN MemoryStore: Not enough space to cache rdd_360_0 in memory! (computed 353.7 MiB so far)\n",
      "24/12/17 22:57:05 WARN MemoryStore: Not enough space to cache rdd_360_0 in memory! (computed 8.4 MiB so far)\n",
      "24/12/17 22:57:05 WARN MemoryStore: Not enough space to cache rdd_360_0 in memory! (computed 3.7 MiB so far)\n",
      "24/12/17 22:57:05 WARN MemoryStore: Failed to reserve initial memory threshold of 1024.0 KiB for computing block rdd_754_0 in memory.\n",
      "24/12/17 22:57:05 WARN MemoryStore: Not enough space to cache rdd_754_0 in memory! (computed 384.0 B so far)\n",
      "24/12/17 22:57:05 WARN MemoryStore: Failed to reserve initial memory threshold of 1024.0 KiB for computing block rdd_776_0 in memory.\n",
      "24/12/17 22:57:05 WARN MemoryStore: Not enough space to cache rdd_776_0 in memory! (computed 384.0 B so far)\n",
      "24/12/17 22:57:05 WARN BlockManager: Persisting block rdd_776_0 to disk instead.\n",
      "24/12/17 22:57:09 WARN MemoryStore: Not enough space to cache rdd_776_0 in memory! (computed 3.7 MiB so far)\n",
      "24/12/17 22:57:09 WARN MemoryStore: Failed to reserve initial memory threshold of 1024.0 KiB for computing block rdd_779_0 in memory.\n",
      "24/12/17 22:57:09 WARN MemoryStore: Not enough space to cache rdd_779_0 in memory! (computed 384.0 B so far)\n",
      "24/12/17 22:57:09 WARN BlockManager: Persisting block rdd_779_0 to disk instead.\n",
      "24/12/17 22:57:12 WARN MemoryStore: Not enough space to cache rdd_779_0 in memory! (computed 10.8 MiB so far)\n",
      "24/12/17 22:57:16 WARN MemoryStore: Not enough space to cache rdd_360_0 in memory! (computed 353.7 MiB so far)\n",
      "24/12/17 22:57:16 WARN MemoryStore: Not enough space to cache rdd_779_0 in memory! (computed 10.8 MiB so far)\n",
      "24/12/17 22:57:20 WARN MemoryStore: Not enough space to cache rdd_360_0 in memory! (computed 353.7 MiB so far)\n",
      "24/12/17 22:57:20 WARN MemoryStore: Not enough space to cache rdd_779_0 in memory! (computed 10.8 MiB so far)\n",
      "24/12/17 22:57:24 WARN MemoryStore: Not enough space to cache rdd_360_0 in memory! (computed 353.7 MiB so far)\n",
      "24/12/17 22:57:24 WARN MemoryStore: Not enough space to cache rdd_779_0 in memory! (computed 10.8 MiB so far)\n",
      "24/12/17 22:57:28 WARN MemoryStore: Not enough space to cache rdd_360_0 in memory! (computed 353.7 MiB so far)\n",
      "24/12/17 22:57:28 WARN MemoryStore: Not enough space to cache rdd_779_0 in memory! (computed 10.8 MiB so far)\n",
      "                                                                                \r"
     ]
    }
   ],
   "source": [
    "FEATURE_COLS = [\"Month\", \"DayofMonth\", \"DepTimeT\", \"CRSDepTimeT\", \"CRSArrTimeT\", \"DepDelay\", \"CRSElapsedTime\", \"PunctualCarrier\", \"AverageCarrier\"]\n",
    "\n",
    "vector_assembler = VectorAssembler(inputCols=FEATURE_COLS, outputCol=\"features\")\n",
    "gbt = GBTRegressor()\n",
    "pipeline_gbt = Pipeline(stages=[vector_assembler, gbt])\n",
    "\n",
    "train_data_gbt = train_data.select(*(FEATURE_COLS + [\"label\"]))\n",
    "model_gbt = pipeline_gbt.fit(train_data_rf)"
   ]
  },
  {
   "cell_type": "code",
   "execution_count": 29,
   "metadata": {},
   "outputs": [
    {
     "name": "stderr",
     "output_type": "stream",
     "text": [
      "[Stage 284:>                                                        (0 + 1) / 1]\r"
     ]
    },
    {
     "name": "stdout",
     "output_type": "stream",
     "text": [
      "RMSE: 16.9685\n",
      "MAE: 10.1631\n",
      "R²: 0.8141\n"
     ]
    },
    {
     "name": "stderr",
     "output_type": "stream",
     "text": [
      "                                                                                \r"
     ]
    }
   ],
   "source": [
    "predictions = model_gbt.transform(test_data.select(*(FEATURE_COLS + [\"label\"])))\n",
    "\n",
    "evaluator = RegressionEvaluator()\n",
    "rmse = evaluator.evaluate(predictions, {evaluator.metricName: \"rmse\"})\n",
    "mae = evaluator.evaluate(predictions, {evaluator.metricName: \"mae\"})\n",
    "r2 = evaluator.evaluate(predictions, {evaluator.metricName: \"r2\"})\n",
    "\n",
    "print(f\"RMSE: {rmse:.4f}\")\n",
    "print(f\"MAE: {mae:.4f}\")\n",
    "print(f\"R²: {r2:.4f}\")"
   ]
  },
  {
   "cell_type": "code",
   "execution_count": null,
   "metadata": {},
   "outputs": [],
   "source": []
  }
 ],
 "metadata": {
  "kernelspec": {
   "display_name": "venv",
   "language": "python",
   "name": "python3"
  },
  "language_info": {
   "codemirror_mode": {
    "name": "ipython",
    "version": 3
   },
   "file_extension": ".py",
   "mimetype": "text/x-python",
   "name": "python",
   "nbconvert_exporter": "python",
   "pygments_lexer": "ipython3",
   "version": "3.12.3"
  }
 },
 "nbformat": 4,
 "nbformat_minor": 2
}
