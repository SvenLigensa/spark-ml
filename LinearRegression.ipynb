{
 "cells": [
  {
   "cell_type": "code",
   "execution_count": 1,
   "metadata": {},
   "outputs": [
    {
     "name": "stderr",
     "output_type": "stream",
     "text": [
      "Setting default log level to \"WARN\".\n",
      "To adjust logging level use sc.setLogLevel(newLevel). For SparkR, use setLogLevel(newLevel).\n",
      "24/12/15 23:37:44 WARN NativeCodeLoader: Unable to load native-hadoop library for your platform... using builtin-java classes where applicable\n"
     ]
    }
   ],
   "source": [
    "from pyspark import SparkConf, SparkContext\n",
    "from pyspark.sql import SparkSession\n",
    "from pyspark.ml.feature import VectorAssembler, MinMaxScaler, StandardScaler\n",
    "from pyspark.ml.regression import LinearRegression\n",
    "from pyspark.ml import Pipeline\n",
    "\n",
    "conf = SparkConf()\n",
    "conf.setAppName(\"ML Data Preparation\")\n",
    "conf.setMaster(\"local\")\n",
    "conf.set(\"spark.hadoop.fs.defaultFS\", \"file:///\")\n",
    "sc = SparkContext.getOrCreate(conf)\n",
    "sc.setLogLevel(\"ERROR\")\n",
    "spark = SparkSession.builder.appName(\"App\").getOrCreate()\n",
    "spark.sparkContext.setLogLevel(\"WARN\")"
   ]
  },
  {
   "cell_type": "code",
   "execution_count": 2,
   "metadata": {},
   "outputs": [],
   "source": [
    "dataframe = spark.read.parquet(\"data_processed_job/2007\")"
   ]
  },
  {
   "cell_type": "code",
   "execution_count": 3,
   "metadata": {},
   "outputs": [
    {
     "name": "stdout",
     "output_type": "stream",
     "text": [
      "root\n",
      " |-- Year: integer (nullable = true)\n",
      " |-- Month: integer (nullable = true)\n",
      " |-- DayofMonth: integer (nullable = true)\n",
      " |-- CRSElapsedTime: integer (nullable = true)\n",
      " |-- ArrDelay: integer (nullable = true)\n",
      " |-- DepDelay: integer (nullable = true)\n",
      " |-- DepTimeT: integer (nullable = true)\n",
      " |-- CRSDepTimeT: integer (nullable = true)\n",
      " |-- CRSArrTimeT: integer (nullable = true)\n",
      " |-- PunctualCarrier: integer (nullable = true)\n",
      " |-- AverageCarrier: integer (nullable = true)\n",
      "\n"
     ]
    }
   ],
   "source": [
    "dataframe.printSchema()"
   ]
  },
  {
   "cell_type": "code",
   "execution_count": 4,
   "metadata": {},
   "outputs": [
    {
     "name": "stderr",
     "output_type": "stream",
     "text": [
      "24/12/15 23:38:10 WARN Instrumentation: [128b613a] regParam is zero, which might cause numerical instability and overfitting.\n",
      "24/12/15 23:38:24 WARN Instrumentation: [128b613a] Cholesky solver failed due to singular covariance matrix. Retrying with Quasi-Newton solver.\n",
      "                                                                                \r"
     ]
    }
   ],
   "source": [
    "# Define groups of columns for preprocessing\n",
    "TARGET_COL = \"ArrDelay\"\n",
    "MINMAX_COLS = [\"Month\", \"DayofMonth\", \"DepTimeT\", \"CRSDepTimeT\", \"CRSArrTimeT\"]\n",
    "STANDARD_COLS = [\"DepDelay\", \"CRSElapsedTime\"]\n",
    "ONE_HOT_COLS = [\"PunctualCarrier\", \"AverageCarrier\"]\n",
    "ALL_COLS = MINMAX_COLS + STANDARD_COLS + ONE_HOT_COLS\n",
    "\n",
    "# ++++ Define stages for the pipeline ++++\n",
    "minmax_assembler = VectorAssembler(inputCols=MINMAX_COLS, outputCol=\"minmax_features\")\n",
    "minmax_scaler = MinMaxScaler(inputCol=\"minmax_features\", outputCol=\"scaled_minmax_features\")\n",
    "\n",
    "standard_assembler = VectorAssembler(inputCols=STANDARD_COLS, outputCol=\"standard_features\")\n",
    "standard_scaler = StandardScaler(inputCol=\"standard_features\", outputCol=\"scaled_standard_features\", withMean=True, withStd=True)\n",
    "\n",
    "final_assembler = VectorAssembler(\n",
    "    inputCols=[\"scaled_minmax_features\", \"scaled_standard_features\"] + ONE_HOT_COLS,\n",
    "    outputCol=\"features\"\n",
    ")\n",
    "\n",
    "lr = LinearRegression(featuresCol=\"features\", labelCol=\"label\")\n",
    "\n",
    "# ++++ Create a pipeline ++++\n",
    "pipeline = Pipeline(stages=[\n",
    "    minmax_assembler, \n",
    "    minmax_scaler, \n",
    "    standard_assembler, \n",
    "    standard_scaler, \n",
    "    final_assembler, \n",
    "    lr\n",
    "])\n",
    "\n",
    "# ++++ Prepare the data ++++\n",
    "data = dataframe.select(*(ALL_COLS + [TARGET_COL])).withColumnRenamed(TARGET_COL, \"label\") # .dropna()\n",
    "\n",
    "# ++++ Fit the pipeline ++++\n",
    "train_data, test_data = data.randomSplit([0.8, 0.2], seed=1000)\n",
    "model = pipeline.fit(train_data)"
   ]
  },
  {
   "cell_type": "markdown",
   "metadata": {},
   "source": [
    "Display the coefficients learned by the model."
   ]
  },
  {
   "cell_type": "code",
   "execution_count": 5,
   "metadata": {},
   "outputs": [
    {
     "name": "stdout",
     "output_type": "stream",
     "text": [
      "Feature        Coefficient\n",
      "Intercept           10.94\n",
      "Month               -0.31\n",
      "DayofMonth           0.19\n",
      "DepTimeT             5.41\n",
      "CRSDepTimeT         -7.52\n",
      "CRSArrTimeT          1.02\n",
      "DepDelay            36.57\n",
      "CRSElapsedTime      -0.81\n",
      "PunctualCarrier      0.18\n",
      "AverageCarrier      -0.18\n"
     ]
    }
   ],
   "source": [
    "lr_model = model.stages[-1]\n",
    "\n",
    "print(f\"{'Feature':<15}{'Coefficient':>10}\")\n",
    "print(f\"{'Intercept':<15}{lr_model.intercept:>10.2f}\")\n",
    "for i, coefficient in enumerate(lr_model.coefficients):\n",
    "    print(f\"{ALL_COLS[i]:<15}{coefficient:>10.2f}\")"
   ]
  },
  {
   "cell_type": "markdown",
   "metadata": {},
   "source": [
    "Do the same, but this time without scaling the features."
   ]
  },
  {
   "cell_type": "code",
   "execution_count": 6,
   "metadata": {},
   "outputs": [
    {
     "name": "stderr",
     "output_type": "stream",
     "text": [
      "24/12/15 23:40:40 WARN Instrumentation: [efd37cfa] regParam is zero, which might cause numerical instability and overfitting.\n",
      "24/12/15 23:40:49 WARN Instrumentation: [efd37cfa] Cholesky solver failed due to singular covariance matrix. Retrying with Quasi-Newton solver.\n",
      "                                                                                \r"
     ]
    }
   ],
   "source": [
    "TARGET_COL = \"ArrDelay\"\n",
    "FEATURE_COLS = [\"Month\", \"DayofMonth\", \"DepTimeT\", \"CRSDepTimeT\", \"CRSArrTimeT\", \"DepDelay\", \"CRSElapsedTime\", \"PunctualCarrier\", \"AverageCarrier\"]\n",
    "\n",
    "vector_assembler = VectorAssembler(\n",
    "    inputCols=FEATURE_COLS,\n",
    "    outputCol=\"features\"\n",
    ")\n",
    "\n",
    "lr = LinearRegression(featuresCol=\"features\", labelCol=\"label\")\n",
    "\n",
    "pipeline = Pipeline(stages=[\n",
    "    vector_assembler, \n",
    "    lr\n",
    "])\n",
    "\n",
    "data = dataframe.select(*(FEATURE_COLS + [TARGET_COL])).withColumnRenamed(TARGET_COL, \"label\")\n",
    "\n",
    "train_data, test_data = data.randomSplit([0.8, 0.2], seed=1000)\n",
    "model = pipeline.fit(train_data)"
   ]
  },
  {
   "cell_type": "code",
   "execution_count": 7,
   "metadata": {},
   "outputs": [
    {
     "name": "stdout",
     "output_type": "stream",
     "text": [
      "Feature        Coefficient\n",
      "Intercept            0.91\n",
      "Month               -0.03\n",
      "DayofMonth           0.01\n",
      "DepTimeT             0.00\n",
      "CRSDepTimeT         -0.01\n",
      "CRSArrTimeT          0.00\n",
      "DepDelay             1.02\n",
      "CRSElapsedTime      -0.01\n",
      "PunctualCarrier      0.18\n",
      "AverageCarrier      -0.18\n"
     ]
    }
   ],
   "source": [
    "lr_model = model.stages[-1]\n",
    "\n",
    "print(f\"{'Feature':<15}{'Coefficient':>10}\")\n",
    "print(f\"{'Intercept':<15}{lr_model.intercept:>10.2f}\")\n",
    "for i, coefficient in enumerate(lr_model.coefficients):\n",
    "    print(f\"{FEATURE_COLS[i]:<15}{coefficient:>10.2f}\")"
   ]
  },
  {
   "cell_type": "code",
   "execution_count": 7,
   "metadata": {},
   "outputs": [],
   "source": [
    "# TODO: Interpretation of results"
   ]
  },
  {
   "cell_type": "code",
   "execution_count": 8,
   "metadata": {},
   "outputs": [],
   "source": [
    "# TODO: Evaluate the model with RMSE, R^2"
   ]
  }
 ],
 "metadata": {
  "kernelspec": {
   "display_name": "venv",
   "language": "python",
   "name": "python3"
  },
  "language_info": {
   "codemirror_mode": {
    "name": "ipython",
    "version": 3
   },
   "file_extension": ".py",
   "mimetype": "text/x-python",
   "name": "python",
   "nbconvert_exporter": "python",
   "pygments_lexer": "ipython3",
   "version": "3.12.3"
  }
 },
 "nbformat": 4,
 "nbformat_minor": 2
}
