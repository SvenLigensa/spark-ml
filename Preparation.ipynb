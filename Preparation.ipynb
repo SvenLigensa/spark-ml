{
 "cells": [
  {
   "cell_type": "markdown",
   "metadata": {},
   "source": [
    "Link to dataset including description: https://dataverse.harvard.edu/dataset.xhtml?persistentId=doi:10.7910/DVN/HG7NV7"
   ]
  },
  {
   "cell_type": "code",
   "execution_count": 8,
   "metadata": {},
   "outputs": [],
   "source": [
    "from pyspark import SparkConf, SparkContext\n",
    "from pyspark.sql import SparkSession\n",
    "\n",
    "conf = SparkConf()\n",
    "conf.setAppName(\"ML Data Preparation\")\n",
    "conf.setMaster(\"local\")\n",
    "conf.set(\"spark.hadoop.fs.defaultFS\", \"file:///\")\n",
    "sc = SparkContext.getOrCreate(conf)\n",
    "sc.setLogLevel(\"ERROR\")\n",
    "spark = SparkSession.builder.appName(\"App\") \\\n",
    "    .getOrCreate()\n",
    "spark.sparkContext.setLogLevel(\"WARN\")"
   ]
  },
  {
   "cell_type": "code",
   "execution_count": 27,
   "metadata": {},
   "outputs": [
    {
     "name": "stderr",
     "output_type": "stream",
     "text": [
      "                                                                                \r"
     ]
    }
   ],
   "source": [
    "dataframe = spark.read.load(\"./data/1987.csv.bz2\", format=\"csv\", sep=\",\", inferSchema=\"true\", header=\"true\")\n",
    "\n",
    "# Drop the features for which the values are not available at the time of departure\n",
    "dataframe = dataframe.drop(\n",
    "    \"ArrTime\", \n",
    "    \"ActualElapsedTime\", \n",
    "    \"AirTime\", \n",
    "    \"TaxiIn\", \n",
    "    \"Diverted\", \n",
    "    \"CarrierDelay\", \n",
    "    \"WeatherDelay\", \n",
    "    \"NASDelay\", \n",
    "    \"SecurityDelay\", \n",
    "    \"LateAircraftDelay\"\n",
    ")"
   ]
  },
  {
   "cell_type": "code",
   "execution_count": 28,
   "metadata": {},
   "outputs": [
    {
     "name": "stderr",
     "output_type": "stream",
     "text": [
      "[Stage 22:>                                                         (0 + 1) / 1]\r"
     ]
    },
    {
     "name": "stdout",
     "output_type": "stream",
     "text": [
      "Number of elements: 1311826\n"
     ]
    },
    {
     "name": "stderr",
     "output_type": "stream",
     "text": [
      "                                                                                \r"
     ]
    }
   ],
   "source": [
    "print(\"Number of elements:\", dataframe.count())"
   ]
  },
  {
   "cell_type": "markdown",
   "metadata": {},
   "source": [
    "We will try to predict `ArrDelay` with the help of the other variables."
   ]
  },
  {
   "cell_type": "markdown",
   "metadata": {},
   "source": [
    "1. `Year` 1987-2008\n",
    "2. `Month` 1-12\n",
    "3. `DayofMonth` 1-31\n",
    "4. `DayOfWeek` 1 (Monday) - 7 (Sunday)\n",
    "5. `DepTime` actual departure time (local, hhm m)\n",
    "6. `CRSDepTime` scheduled departure time (local, hhmm)\n",
    "7. `ArrTime` actual arrival time (local, hhmm)\n",
    "8. `CRSArrTime` scheduled arrival time (local, hhmm)\n",
    "9. `UniqueCarrier` unique carrier code\n",
    "10. `FlightNum` flight number\n",
    "11. `TailNum` plane tail number\n",
    "12. `ActualElapsedTime` (in minutes)\n",
    "13. `CRSElapsedTime` (in minutes)\n",
    "14. `AirTime` (in minutes)\n",
    "15. `ArrDelay` arrival delay, in minutes\n",
    "16. `DepDelay` departure delay, in minutes\n",
    "17. `Origin` origin IATA airport code\n",
    "18. `Dest` des tination IATA airport code\n",
    "19. `Distance` in miles\n",
    "20. `TaxiIn` taxi in time, in minutes\n",
    "21. `TaxiOut` taxi out time in minutes\n",
    "22. `Cancelled` was the flight cancelled?\n",
    "23. `CancellationCode` reason for cancellation (A = carrier, B = weather, C = NAS, D = security)\n",
    "24. `Diverted` 1 = yes, 0 = no\n",
    "25. `CarrierDelay` in minutes\n",
    "26. `WeatherDelay` in minutes\n",
    "27. `NASDelay` in minutes\n",
    "28. `SecurityDelay` in minutes\n",
    "29. `LateAircraftDelay` in minutes"
   ]
  },
  {
   "cell_type": "code",
   "execution_count": 29,
   "metadata": {},
   "outputs": [
    {
     "name": "stdout",
     "output_type": "stream",
     "text": [
      "root\n",
      " |-- Year: integer (nullable = true)\n",
      " |-- Month: integer (nullable = true)\n",
      " |-- DayofMonth: integer (nullable = true)\n",
      " |-- DayOfWeek: integer (nullable = true)\n",
      " |-- DepTime: string (nullable = true)\n",
      " |-- CRSDepTime: integer (nullable = true)\n",
      " |-- CRSArrTime: integer (nullable = true)\n",
      " |-- UniqueCarrier: string (nullable = true)\n",
      " |-- FlightNum: integer (nullable = true)\n",
      " |-- TailNum: string (nullable = true)\n",
      " |-- CRSElapsedTime: integer (nullable = true)\n",
      " |-- ArrDelay: string (nullable = true)\n",
      " |-- DepDelay: string (nullable = true)\n",
      " |-- Origin: string (nullable = true)\n",
      " |-- Dest: string (nullable = true)\n",
      " |-- Distance: string (nullable = true)\n",
      " |-- TaxiOut: string (nullable = true)\n",
      " |-- Cancelled: integer (nullable = true)\n",
      " |-- CancellationCode: string (nullable = true)\n",
      "\n"
     ]
    }
   ],
   "source": [
    "dataframe.printSchema()"
   ]
  },
  {
   "cell_type": "code",
   "execution_count": 30,
   "metadata": {},
   "outputs": [
    {
     "name": "stdout",
     "output_type": "stream",
     "text": [
      "+----+-----+----------+---------+-------+----------+----------+-------------+---------+-------+--------------+--------+--------+------+----+--------+-------+---------+----------------+\n",
      "|Year|Month|DayofMonth|DayOfWeek|DepTime|CRSDepTime|CRSArrTime|UniqueCarrier|FlightNum|TailNum|CRSElapsedTime|ArrDelay|DepDelay|Origin|Dest|Distance|TaxiOut|Cancelled|CancellationCode|\n",
      "+----+-----+----------+---------+-------+----------+----------+-------------+---------+-------+--------------+--------+--------+------+----+--------+-------+---------+----------------+\n",
      "|1987|   10|        14|        3|    741|       730|       849|           PS|     1451|     NA|            79|      23|      11|   SAN| SFO|     447|     NA|        0|              NA|\n",
      "|1987|   10|        15|        4|    729|       730|       849|           PS|     1451|     NA|            79|      14|      -1|   SAN| SFO|     447|     NA|        0|              NA|\n",
      "|1987|   10|        17|        6|    741|       730|       849|           PS|     1451|     NA|            79|      29|      11|   SAN| SFO|     447|     NA|        0|              NA|\n",
      "|1987|   10|        18|        7|    729|       730|       849|           PS|     1451|     NA|            79|      -2|      -1|   SAN| SFO|     447|     NA|        0|              NA|\n",
      "|1987|   10|        19|        1|    749|       730|       849|           PS|     1451|     NA|            79|      33|      19|   SAN| SFO|     447|     NA|        0|              NA|\n",
      "|1987|   10|        21|        3|    728|       730|       849|           PS|     1451|     NA|            79|      -1|      -2|   SAN| SFO|     447|     NA|        0|              NA|\n",
      "|1987|   10|        22|        4|    728|       730|       849|           PS|     1451|     NA|            79|       3|      -2|   SAN| SFO|     447|     NA|        0|              NA|\n",
      "|1987|   10|        23|        5|    731|       730|       849|           PS|     1451|     NA|            79|      13|       1|   SAN| SFO|     447|     NA|        0|              NA|\n",
      "|1987|   10|        24|        6|    744|       730|       849|           PS|     1451|     NA|            79|      19|      14|   SAN| SFO|     447|     NA|        0|              NA|\n",
      "|1987|   10|        25|        7|    729|       730|       849|           PS|     1451|     NA|            79|       2|      -1|   SAN| SFO|     447|     NA|        0|              NA|\n",
      "|1987|   10|        26|        1|    735|       730|       849|           PS|     1451|     NA|            79|      15|       5|   SAN| SFO|     447|     NA|        0|              NA|\n",
      "|1987|   10|        28|        3|    741|       725|       855|           PS|     1451|     NA|            90|      24|      16|   SAN| SFO|     447|     NA|        0|              NA|\n",
      "|1987|   10|        29|        4|    742|       725|       855|           PS|     1451|     NA|            90|      11|      17|   SAN| SFO|     447|     NA|        0|              NA|\n",
      "|1987|   10|        31|        6|    726|       725|       855|           PS|     1451|     NA|            90|      -7|       1|   SAN| SFO|     447|     NA|        0|              NA|\n",
      "|1987|   10|         1|        4|    936|       915|      1001|           PS|     1451|     NA|            46|      34|      21|   SFO| RNO|     192|     NA|        0|              NA|\n",
      "|1987|   10|         2|        5|    918|       915|      1001|           PS|     1451|     NA|            46|      16|       3|   SFO| RNO|     192|     NA|        0|              NA|\n",
      "|1987|   10|         3|        6|    928|       915|      1001|           PS|     1451|     NA|            46|      36|      13|   SFO| RNO|     192|     NA|        0|              NA|\n",
      "|1987|   10|         4|        7|    914|       915|      1001|           PS|     1451|     NA|            46|       2|      -1|   SFO| RNO|     192|     NA|        0|              NA|\n",
      "|1987|   10|         5|        1|   1042|       915|      1001|           PS|     1451|     NA|            46|      88|      87|   SFO| RNO|     192|     NA|        0|              NA|\n",
      "|1987|   10|         6|        2|    934|       915|      1001|           PS|     1451|     NA|            46|      23|      19|   SFO| RNO|     192|     NA|        0|              NA|\n",
      "+----+-----+----------+---------+-------+----------+----------+-------------+---------+-------+--------------+--------+--------+------+----+--------+-------+---------+----------------+\n",
      "only showing top 20 rows\n",
      "\n"
     ]
    }
   ],
   "source": [
    "dataframe.show()"
   ]
  },
  {
   "cell_type": "markdown",
   "metadata": {},
   "source": [
    "Flights which were cancelled (`Cancelled = 1`) do not have an arrival delay (`ArrDelay = NA`).\n",
    "$\\newline\\Rightarrow$ Filter out these rows before applying the model."
   ]
  },
  {
   "cell_type": "code",
   "execution_count": 37,
   "metadata": {},
   "outputs": [
    {
     "name": "stdout",
     "output_type": "stream",
     "text": [
      "+---------+--------+\n",
      "|Cancelled|ArrDelay|\n",
      "+---------+--------+\n",
      "|        1|      NA|\n",
      "|        1|      NA|\n",
      "|        1|      NA|\n",
      "|        1|      NA|\n",
      "|        1|      NA|\n",
      "|        1|      NA|\n",
      "|        1|      NA|\n",
      "|        1|      NA|\n",
      "|        1|      NA|\n",
      "|        1|      NA|\n",
      "+---------+--------+\n",
      "only showing top 10 rows\n",
      "\n"
     ]
    }
   ],
   "source": [
    "dataframe.where(dataframe.Cancelled == 1).select(\"Cancelled\", \"ArrDelay\").show(10)"
   ]
  },
  {
   "cell_type": "code",
   "execution_count": null,
   "metadata": {},
   "outputs": [],
   "source": []
  }
 ],
 "metadata": {
  "kernelspec": {
   "display_name": "venv",
   "language": "python",
   "name": "python3"
  },
  "language_info": {
   "codemirror_mode": {
    "name": "ipython",
    "version": 3
   },
   "file_extension": ".py",
   "mimetype": "text/x-python",
   "name": "python",
   "nbconvert_exporter": "python",
   "pygments_lexer": "ipython3",
   "version": "3.12.3"
  }
 },
 "nbformat": 4,
 "nbformat_minor": 2
}
